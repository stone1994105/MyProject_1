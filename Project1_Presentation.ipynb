{
 "cells": [
  {
   "cell_type": "code",
   "execution_count": 146,
   "metadata": {},
   "outputs": [
    {
     "data": {
      "text/plain": [
       "practice_plots (generic function with 1 method)"
      ]
     },
     "execution_count": 146,
     "metadata": {},
     "output_type": "execute_result"
    }
   ],
   "source": [
    "# This is a project for the computational physics course Fall 2018 at the Perimeter Institute\n",
    "# The goal of this project is to get familiar with Julia language features and practice them\n",
    "\n",
    "using Plots\n",
    "using DataFrames\n",
    "using Dates\n",
    "using StatsBase\n",
    "using Statistics\n",
    "##############################################################################################################################################\n",
    "\n",
    "CITY_DATA = Dict(\"Chicago\" => \"chicago.csv\", \"New York City\" => \"new_york_city.csv\", \"Washington\" => \"washington.csv\")\n",
    "\n",
    "function load_data(city::String, skipmissing = true)\n",
    "\t# load data file into a dataframe\n",
    "\t# By default, delete the rows with missing values\n",
    "\tdf = readtable(CITY_DATA[city])\n",
    "\tif skipmissing\n",
    "\t\tdropmissing!(df)\n",
    "\tend\n",
    "\t# convert the Start Time column to datetime\n",
    "\tdateformat = \"yyyy-mm-dd HH:MM:SS\"\n",
    "\tdf[:Start_Time] = map(x->DateTime(x,dateformat), df[:Start_Time])\n",
    "\tdf[:End_Time] = map(x->DateTime(x,dateformat), df[:End_Time])\n",
    "\tdf\n",
    "end\n",
    "\n",
    "function time_stats(df::DataFrame)\n",
    "\t# Displays statistics on the most frequent times of travel\n",
    "\tprintln(\"\\nCalculating The Most Frequent Times of Travel...\\n\")\n",
    "\t@time begin\n",
    "\t\t# display the most common month\n",
    "\t\tdf[:month] = map(x->Dates.month(x), df[:Start_Time])\n",
    "\t\tpopular_month = mode(df[:month])\n",
    "\t\tprintln(\"The most popular month is:$popular_month\")\n",
    "\t\t# display the most common day of week\n",
    "\t\tdf[:day] = map(x->Dates.dayofweek(x), df[:Start_Time])\n",
    "\t\tpopular_day = mode(df[:day])\n",
    "\t\tprintln(\"The most popular day of week is:$popular_day\")\n",
    "\tend\n",
    "end\n",
    "\t\n",
    "\n",
    "function station_stats(df::DataFrame)\n",
    "\t# Displays statistics on the most popular stations and trip\n",
    "\tprintln(\"\\nCalculating The Most Popular Stations and Trip...\\n\")\n",
    "\t@time begin\n",
    "\t    #display most commonly used start station\n",
    "\t    popular_start_station = mode(df[:Start_Station])\n",
    "\t    println(\"The most popular start station is:$popular_start_station\")\n",
    "\t    # display most commonly used end station\n",
    "\t    popular_end_station = mode(df[:End_Station])\n",
    "\t    println(\"The most popular end station is:$popular_end_station\")\n",
    "\t    # display most frequent combination of start station and end station trip\n",
    "\t    trip = \"From\" .* df[:Start_Station] .* \"to\" .* df[:End_Station]\n",
    "\t    popular_trip = mode(trip)\n",
    "\t    println(\"The most popular combination of start and end stations is:$popular_trip\")\n",
    "\tend\n",
    "end\t\n",
    "\n",
    "function trip_duration_stats(df::DataFrame)\n",
    "\t# Displays statistics on the total and average trip duration\n",
    "\tprintln(\"\\nCalculating Trip Duration...\\n\")\n",
    "\t@time begin\n",
    "\tN = nrow(df)\n",
    "\t# display total travel time\n",
    "\ttotal_travel_time = sum(df[:Trip_Duration]) / 60\n",
    "\tprintln(\"The total travel time (in minutes) is:$total_travel_time\")\n",
    "\t# display mean travel time\n",
    "\tmean_travel_time = total_travel_time / N\n",
    "\tprintln(\"The mean travel time (in minutes) is:$mean_travel_time\")\n",
    "\tend\n",
    "end\n",
    "\n",
    "function user_stats(df::DataFrame)\n",
    "\t# Displays statistics on bikeshare users\n",
    "\tprintln(\"\\nCalculating User Stats...\\n\")  \n",
    "\t@time begin\n",
    "\t\t# display counts of user types\n",
    "\t\tuser_types = countmap(dropmissing!(df)[:User_Type])\n",
    "\t\t@show user_types\n",
    "\t\t# display counts of gender\n",
    "\t\tif :Gender in names(df)\n",
    "\t\t\tgender = countmap(dropmissing!(df)[:Gender])\n",
    "\t\t\t@show gender\n",
    "\t\telse\n",
    "\t\t\tprintln(\"There is no data for gender\")\n",
    "\t\tend\n",
    "\t\t# display earliest, most recent, and most common year of birth\n",
    "\t\tif :Birth_Year in names(df)\n",
    "\t\t\tearliest = minimum(df[:Birth_Year])\n",
    "\t\t\tmost_recent = maximum(df[:Birth_Year])\n",
    "\t\t\tpopular = mode(df[:Birth_Year])\n",
    "\t\t\tprintln(\"The earliest year of birth is $earliest \\nThe most recent year of birth is $most_recent \\n The most common year of birth is $popular\")\n",
    "\t\telse\n",
    "\t\t\tprintln(\"There is no data for birth year\")\n",
    "\t\tend\n",
    "\tend\n",
    "end\n",
    "\n",
    "function show_results(df::DataFrame)\n",
    "\ttime_stats(df)\n",
    "\tstation_stats(df)\n",
    "\ttrip_duration_stats(df)\n",
    "\tuser_stats(df)\n",
    "end\n",
    "\n",
    "# Practice some Plots\n",
    "function practice_plots(df::DataFrame)\n",
    "\tplot(2017 .- df[df.Gender .== \"Female\", :][:Birth_Year],\n",
    "\tdf[df.Gender .== \"Female\", :][:Trip_Duration] ./60,\n",
    "\tseriestype=:scatter,\n",
    "\tcolor = \"red\",\n",
    "  \tlabel = \"Female\",\n",
    "  \ttitle = \"Trip Duration vs Age\",\n",
    "  \txlabel = \"Age\",\n",
    " \tylabel = \"Trip Duration(min)\",\n",
    "  \txlims = (0,120),\n",
    "  \tylims = (0,1500),\n",
    " \tlegend =:topright)\n",
    "\n",
    "\tplot!(2017 .- df[df.Gender .== \"Male\", :][:Birth_Year],\n",
    "\tdf[df.Gender .== \"Male\", :][:Trip_Duration] ./60,\n",
    "\tseriestype=:scatter,\n",
    "\tcolor = \"blue\",\n",
    "  \tlabel = \"Male\",\n",
    " \ttitle = \"Trip Duration vs Age\",\n",
    "  \txlabel = \"Age\",\n",
    "  \tylabel = \"Trip Duration(min)\",\n",
    " \txlims = (0,120),\n",
    "\tylims = (0,1500),\n",
    "\tlegend =:topright)\n",
    "end\n",
    "##############################################################################################################################################"
   ]
  },
  {
   "cell_type": "code",
   "execution_count": 30,
   "metadata": {
    "scrolled": false
   },
   "outputs": [
    {
     "name": "stderr",
     "output_type": "stream",
     "text": [
      "┌ Warning: readtable is deprecated, use CSV.read from the CSV package instead\n",
      "│   caller = load_data(::String, ::Bool) at In[29]:15\n",
      "└ @ Main .\\In[29]:15\n"
     ]
    },
    {
     "data": {
      "text/html": [
       "<table class=\"data-frame\"><thead><tr><th></th><th>x</th><th>Start_Time</th><th>End_Time</th><th>Trip_Duration</th><th>Start_Station</th><th>End_Station</th><th>User_Type</th><th>Gender</th><th>Birth_Year</th></tr><tr><th></th><th>Int64⍰</th><th>DateTime</th><th>DateTime</th><th>Int64⍰</th><th>String⍰</th><th>String⍰</th><th>String⍰</th><th>String⍰</th><th>Float64⍰</th></tr></thead><tbody><tr><th>1</th><td>1423854</td><td>2017-06-23T15:09:32</td><td>2017-06-23T15:14:53</td><td>321</td><td>Wood St &amp; Hubbard St</td><td>Damen Ave &amp; Chicago Ave</td><td>Subscriber</td><td>Male</td><td>1992.0</td></tr><tr><th>2</th><td>955915</td><td>2017-05-25T18:19:03</td><td>2017-05-25T18:45:53</td><td>1610</td><td>Theater on the Lake</td><td>Sheffield Ave &amp; Waveland Ave</td><td>Subscriber</td><td>Female</td><td>1992.0</td></tr><tr><th>3</th><td>9031</td><td>2017-01-04T08:27:49</td><td>2017-01-04T08:34:45</td><td>416</td><td>May St &amp; Taylor St</td><td>Wood St &amp; Taylor St</td><td>Subscriber</td><td>Male</td><td>1981.0</td></tr><tr><th>4</th><td>304487</td><td>2017-03-06T13:49:38</td><td>2017-03-06T13:55:28</td><td>350</td><td>Christiana Ave &amp; Lawrence Ave</td><td>St. Louis Ave &amp; Balmoral Ave</td><td>Subscriber</td><td>Male</td><td>1986.0</td></tr><tr><th>5</th><td>45207</td><td>2017-01-17T14:53:07</td><td>2017-01-17T15:02:01</td><td>534</td><td>Clark St &amp; Randolph St</td><td>Desplaines St &amp; Jackson Blvd</td><td>Subscriber</td><td>Male</td><td>1975.0</td></tr><tr><th>6</th><td>1473887</td><td>2017-06-26T09:01:20</td><td>2017-06-26T09:11:06</td><td>586</td><td>Clinton St &amp; Washington Blvd</td><td>Canal St &amp; Taylor St</td><td>Subscriber</td><td>Male</td><td>1990.0</td></tr><tr><th>7</th><td>961916</td><td>2017-05-26T09:41:44</td><td>2017-05-26T09:46:25</td><td>281</td><td>Ashland Ave &amp; Lake St</td><td>Wood St &amp; Hubbard St</td><td>Subscriber</td><td>Female</td><td>1983.0</td></tr><tr><th>8</th><td>606841</td><td>2017-04-20T16:08:51</td><td>2017-04-20T16:20:20</td><td>689</td><td>Sedgwick St &amp; Huron St</td><td>Halsted St &amp; Blackhawk St (*)</td><td>Subscriber</td><td>Male</td><td>1984.0</td></tr><tr><th>9</th><td>135470</td><td>2017-02-06T18:00:47</td><td>2017-02-06T18:09:00</td><td>493</td><td>Stetson Ave &amp; South Water St</td><td>Clinton St &amp; Washington Blvd</td><td>Subscriber</td><td>Male</td><td>1979.0</td></tr><tr><th>10</th><td>175805</td><td>2017-02-15T07:09:55</td><td>2017-02-15T07:14:56</td><td>301</td><td>Broadway &amp; Barry Ave</td><td>Wilton Ave &amp; Belmont Ave</td><td>Subscriber</td><td>Female</td><td>1993.0</td></tr><tr><th>11</th><td>71678</td><td>2017-01-22T15:15:45</td><td>2017-01-22T15:31:02</td><td>917</td><td>Southport Ave &amp; Wellington Ave</td><td>Clark St &amp; Schiller St</td><td>Subscriber</td><td>Male</td><td>1964.0</td></tr><tr><th>12</th><td>19061</td><td>2017-01-08T16:03:00</td><td>2017-01-08T16:07:37</td><td>277</td><td>Green St &amp; Madison St</td><td>Ada St &amp; Washington Blvd</td><td>Subscriber</td><td>Male</td><td>1961.0</td></tr><tr><th>13</th><td>1023296</td><td>2017-05-30T15:46:18</td><td>2017-05-30T15:52:12</td><td>354</td><td>Larrabee St &amp; Kingsbury St</td><td>Clark St &amp; Elm St</td><td>Subscriber</td><td>Male</td><td>1985.0</td></tr><tr><th>14</th><td>611000</td><td>2017-04-20T19:26:33</td><td>2017-04-20T19:35:08</td><td>515</td><td>Canal St &amp; Madison St</td><td>Racine Ave (May St) &amp; Fulton St</td><td>Subscriber</td><td>Male</td><td>1984.0</td></tr><tr><th>15</th><td>958716</td><td>2017-05-25T22:59:33</td><td>2017-05-25T23:07:19</td><td>466</td><td>Clark St &amp; Armitage Ave</td><td>Sheffield Ave &amp; Wrightwood Ave</td><td>Subscriber</td><td>Female</td><td>1985.0</td></tr><tr><th>16</th><td>718598</td><td>2017-05-03T13:20:38</td><td>2017-05-03T13:31:13</td><td>635</td><td>Ada St &amp; Washington Blvd</td><td>Daley Center Plaza</td><td>Subscriber</td><td>Male</td><td>1967.0</td></tr><tr><th>17</th><td>931608</td><td>2017-05-23T08:08:25</td><td>2017-05-23T08:11:09</td><td>164</td><td>Damen Ave &amp; Cortland St</td><td>Marshfield Ave &amp; Cortland St</td><td>Subscriber</td><td>Male</td><td>1990.0</td></tr><tr><th>18</th><td>1469705</td><td>2017-06-25T21:26:30</td><td>2017-06-25T21:33:44</td><td>434</td><td>State St &amp; Pearson St</td><td>Clark St &amp; Schiller St</td><td>Subscriber</td><td>Male</td><td>1987.0</td></tr><tr><th>19</th><td>849468</td><td>2017-05-16T06:36:17</td><td>2017-05-16T06:59:34</td><td>1397</td><td>Michigan Ave &amp; Oak St</td><td>Halsted St &amp; Wrightwood Ave</td><td>Subscriber</td><td>Female</td><td>1992.0</td></tr><tr><th>20</th><td>1420915</td><td>2017-06-23T12:21:01</td><td>2017-06-23T12:32:54</td><td>713</td><td>Rush St &amp; Cedar St</td><td>Halsted St &amp; Willow St</td><td>Subscriber</td><td>Male</td><td>1985.0</td></tr><tr><th>21</th><td>161454</td><td>2017-02-12T15:24:29</td><td>2017-02-12T15:38:43</td><td>854</td><td>Clarendon Ave &amp; Leland Ave</td><td>Lake Shore Dr &amp; Belmont Ave</td><td>Subscriber</td><td>Male</td><td>1980.0</td></tr><tr><th>22</th><td>1413814</td><td>2017-06-22T19:14:37</td><td>2017-06-22T19:29:54</td><td>917</td><td>Bissell St &amp; Armitage Ave</td><td>Orleans St &amp; Chestnut St (NEXT Apts)</td><td>Subscriber</td><td>Female</td><td>1989.0</td></tr><tr><th>23</th><td>717248</td><td>2017-05-03T09:41:11</td><td>2017-05-03T09:49:10</td><td>479</td><td>Wabash Ave &amp; Roosevelt Rd</td><td>Halsted St &amp; Roosevelt Rd</td><td>Subscriber</td><td>Male</td><td>1992.0</td></tr><tr><th>24</th><td>1451810</td><td>2017-06-24T20:47:40</td><td>2017-06-24T21:13:39</td><td>1559</td><td>Rush St &amp; Cedar St</td><td>Halsted St &amp; Roscoe St</td><td>Subscriber</td><td>Male</td><td>1968.0</td></tr><tr><th>25</th><td>385517</td><td>2017-03-23T09:38:27</td><td>2017-03-23T09:42:41</td><td>254</td><td>Loomis St &amp; Jackson Blvd</td><td>Peoria St &amp; Jackson Blvd</td><td>Subscriber</td><td>Female</td><td>1985.0</td></tr><tr><th>26</th><td>1186035</td><td>2017-06-09T07:48:55</td><td>2017-06-09T07:52:30</td><td>215</td><td>Canal St &amp; Madison St</td><td>Clark St &amp; Randolph St</td><td>Subscriber</td><td>Male</td><td>1974.0</td></tr><tr><th>27</th><td>512692</td><td>2017-04-11T18:49:57</td><td>2017-04-11T18:59:36</td><td>579</td><td>Clinton St &amp; Lake St</td><td>Mies van der Rohe Way &amp; Chestnut St</td><td>Subscriber</td><td>Male</td><td>1989.0</td></tr><tr><th>28</th><td>261757</td><td>2017-02-25T19:01:19</td><td>2017-02-25T19:08:10</td><td>411</td><td>Halsted St &amp; Dickens Ave</td><td>Halsted St &amp; Wrightwood Ave</td><td>Subscriber</td><td>Male</td><td>1970.0</td></tr><tr><th>29</th><td>952396</td><td>2017-05-25T16:06:09</td><td>2017-05-25T16:12:49</td><td>400</td><td>Clinton St &amp; Madison St</td><td>Financial Pl &amp; Congress Pkwy</td><td>Subscriber</td><td>Male</td><td>1965.0</td></tr><tr><th>30</th><td>1359055</td><td>2017-06-19T17:43:17</td><td>2017-06-19T17:59:35</td><td>978</td><td>Larrabee St &amp; Armitage Ave</td><td>Dearborn Pkwy &amp; Delaware Pl</td><td>Subscriber</td><td>Female</td><td>1993.0</td></tr><tr><th>&vellip;</th><td>&vellip;</td><td>&vellip;</td><td>&vellip;</td><td>&vellip;</td><td>&vellip;</td><td>&vellip;</td><td>&vellip;</td><td>&vellip;</td><td>&vellip;</td></tr></tbody></table>"
      ],
      "text/plain": [
       "238948×9 DataFrame. Omitted printing of 5 columns\n",
       "│ Row    │ x       │ Start_Time          │ End_Time            │ Trip_Duration │\n",
       "│        │ \u001b[90mInt64⍰\u001b[39m  │ \u001b[90mDateTime\u001b[39m            │ \u001b[90mDateTime\u001b[39m            │ \u001b[90mInt64⍰\u001b[39m        │\n",
       "├────────┼─────────┼─────────────────────┼─────────────────────┼───────────────┤\n",
       "│ 1      │ 1423854 │ 2017-06-23T15:09:32 │ 2017-06-23T15:14:53 │ 321           │\n",
       "│ 2      │ 955915  │ 2017-05-25T18:19:03 │ 2017-05-25T18:45:53 │ 1610          │\n",
       "│ 3      │ 9031    │ 2017-01-04T08:27:49 │ 2017-01-04T08:34:45 │ 416           │\n",
       "│ 4      │ 304487  │ 2017-03-06T13:49:38 │ 2017-03-06T13:55:28 │ 350           │\n",
       "│ 5      │ 45207   │ 2017-01-17T14:53:07 │ 2017-01-17T15:02:01 │ 534           │\n",
       "│ 6      │ 1473887 │ 2017-06-26T09:01:20 │ 2017-06-26T09:11:06 │ 586           │\n",
       "│ 7      │ 961916  │ 2017-05-26T09:41:44 │ 2017-05-26T09:46:25 │ 281           │\n",
       "│ 8      │ 606841  │ 2017-04-20T16:08:51 │ 2017-04-20T16:20:20 │ 689           │\n",
       "│ 9      │ 135470  │ 2017-02-06T18:00:47 │ 2017-02-06T18:09:00 │ 493           │\n",
       "│ 10     │ 175805  │ 2017-02-15T07:09:55 │ 2017-02-15T07:14:56 │ 301           │\n",
       "⋮\n",
       "│ 238938 │ 474051  │ 2017-04-08T09:26:36 │ 2017-04-08T09:43:50 │ 1034          │\n",
       "│ 238939 │ 845283  │ 2017-05-15T17:59:48 │ 2017-05-15T18:05:29 │ 341           │\n",
       "│ 238940 │ 454645  │ 2017-04-04T17:16:49 │ 2017-04-04T17:35:00 │ 1091          │\n",
       "│ 238941 │ 712351  │ 2017-05-02T17:45:19 │ 2017-05-02T17:52:00 │ 401           │\n",
       "│ 238942 │ 1444489 │ 2017-06-24T15:28:12 │ 2017-06-24T16:08:11 │ 2399          │\n",
       "│ 238943 │ 723217  │ 2017-05-03T19:15:23 │ 2017-05-03T19:29:32 │ 849           │\n",
       "│ 238944 │ 1327248 │ 2017-06-17T16:44:16 │ 2017-06-17T16:50:57 │ 401           │\n",
       "│ 238945 │ 935129  │ 2017-05-23T17:08:04 │ 2017-05-23T17:11:37 │ 213           │\n",
       "│ 238946 │ 64825   │ 2017-01-21T13:18:00 │ 2017-01-21T13:27:50 │ 590           │\n",
       "│ 238947 │ 159685  │ 2017-02-12T09:59:01 │ 2017-02-12T10:21:49 │ 1368          │\n",
       "│ 238948 │ 1021247 │ 2017-05-30T12:38:28 │ 2017-05-30T12:55:36 │ 1028          │"
      ]
     },
     "execution_count": 30,
     "metadata": {},
     "output_type": "execute_result"
    }
   ],
   "source": [
    "df1= load_data(\"Chicago\")"
   ]
  },
  {
   "cell_type": "code",
   "execution_count": 31,
   "metadata": {},
   "outputs": [
    {
     "data": {
      "text/html": [
       "<table class=\"data-frame\"><thead><tr><th></th><th>x</th><th>Start_Time</th><th>End_Time</th><th>Trip_Duration</th><th>Start_Station</th><th>End_Station</th><th>User_Type</th><th>Gender</th><th>Birth_Year</th></tr><tr><th></th><th>Int64⍰</th><th>DateTime</th><th>DateTime</th><th>Int64⍰</th><th>String⍰</th><th>String⍰</th><th>String⍰</th><th>String⍰</th><th>Float64⍰</th></tr></thead><tbody><tr><th>1</th><td>1423854</td><td>2017-06-23T15:09:32</td><td>2017-06-23T15:14:53</td><td>321</td><td>Wood St &amp; Hubbard St</td><td>Damen Ave &amp; Chicago Ave</td><td>Subscriber</td><td>Male</td><td>1992.0</td></tr><tr><th>2</th><td>955915</td><td>2017-05-25T18:19:03</td><td>2017-05-25T18:45:53</td><td>1610</td><td>Theater on the Lake</td><td>Sheffield Ave &amp; Waveland Ave</td><td>Subscriber</td><td>Female</td><td>1992.0</td></tr><tr><th>3</th><td>9031</td><td>2017-01-04T08:27:49</td><td>2017-01-04T08:34:45</td><td>416</td><td>May St &amp; Taylor St</td><td>Wood St &amp; Taylor St</td><td>Subscriber</td><td>Male</td><td>1981.0</td></tr><tr><th>4</th><td>304487</td><td>2017-03-06T13:49:38</td><td>2017-03-06T13:55:28</td><td>350</td><td>Christiana Ave &amp; Lawrence Ave</td><td>St. Louis Ave &amp; Balmoral Ave</td><td>Subscriber</td><td>Male</td><td>1986.0</td></tr><tr><th>5</th><td>45207</td><td>2017-01-17T14:53:07</td><td>2017-01-17T15:02:01</td><td>534</td><td>Clark St &amp; Randolph St</td><td>Desplaines St &amp; Jackson Blvd</td><td>Subscriber</td><td>Male</td><td>1975.0</td></tr><tr><th>6</th><td>1473887</td><td>2017-06-26T09:01:20</td><td>2017-06-26T09:11:06</td><td>586</td><td>Clinton St &amp; Washington Blvd</td><td>Canal St &amp; Taylor St</td><td>Subscriber</td><td>Male</td><td>1990.0</td></tr><tr><th>7</th><td>961916</td><td>2017-05-26T09:41:44</td><td>2017-05-26T09:46:25</td><td>281</td><td>Ashland Ave &amp; Lake St</td><td>Wood St &amp; Hubbard St</td><td>Subscriber</td><td>Female</td><td>1983.0</td></tr><tr><th>8</th><td>606841</td><td>2017-04-20T16:08:51</td><td>2017-04-20T16:20:20</td><td>689</td><td>Sedgwick St &amp; Huron St</td><td>Halsted St &amp; Blackhawk St (*)</td><td>Subscriber</td><td>Male</td><td>1984.0</td></tr><tr><th>9</th><td>135470</td><td>2017-02-06T18:00:47</td><td>2017-02-06T18:09:00</td><td>493</td><td>Stetson Ave &amp; South Water St</td><td>Clinton St &amp; Washington Blvd</td><td>Subscriber</td><td>Male</td><td>1979.0</td></tr><tr><th>10</th><td>175805</td><td>2017-02-15T07:09:55</td><td>2017-02-15T07:14:56</td><td>301</td><td>Broadway &amp; Barry Ave</td><td>Wilton Ave &amp; Belmont Ave</td><td>Subscriber</td><td>Female</td><td>1993.0</td></tr><tr><th>11</th><td>71678</td><td>2017-01-22T15:15:45</td><td>2017-01-22T15:31:02</td><td>917</td><td>Southport Ave &amp; Wellington Ave</td><td>Clark St &amp; Schiller St</td><td>Subscriber</td><td>Male</td><td>1964.0</td></tr><tr><th>12</th><td>19061</td><td>2017-01-08T16:03:00</td><td>2017-01-08T16:07:37</td><td>277</td><td>Green St &amp; Madison St</td><td>Ada St &amp; Washington Blvd</td><td>Subscriber</td><td>Male</td><td>1961.0</td></tr><tr><th>13</th><td>1023296</td><td>2017-05-30T15:46:18</td><td>2017-05-30T15:52:12</td><td>354</td><td>Larrabee St &amp; Kingsbury St</td><td>Clark St &amp; Elm St</td><td>Subscriber</td><td>Male</td><td>1985.0</td></tr><tr><th>14</th><td>611000</td><td>2017-04-20T19:26:33</td><td>2017-04-20T19:35:08</td><td>515</td><td>Canal St &amp; Madison St</td><td>Racine Ave (May St) &amp; Fulton St</td><td>Subscriber</td><td>Male</td><td>1984.0</td></tr><tr><th>15</th><td>958716</td><td>2017-05-25T22:59:33</td><td>2017-05-25T23:07:19</td><td>466</td><td>Clark St &amp; Armitage Ave</td><td>Sheffield Ave &amp; Wrightwood Ave</td><td>Subscriber</td><td>Female</td><td>1985.0</td></tr><tr><th>16</th><td>718598</td><td>2017-05-03T13:20:38</td><td>2017-05-03T13:31:13</td><td>635</td><td>Ada St &amp; Washington Blvd</td><td>Daley Center Plaza</td><td>Subscriber</td><td>Male</td><td>1967.0</td></tr><tr><th>17</th><td>931608</td><td>2017-05-23T08:08:25</td><td>2017-05-23T08:11:09</td><td>164</td><td>Damen Ave &amp; Cortland St</td><td>Marshfield Ave &amp; Cortland St</td><td>Subscriber</td><td>Male</td><td>1990.0</td></tr><tr><th>18</th><td>1469705</td><td>2017-06-25T21:26:30</td><td>2017-06-25T21:33:44</td><td>434</td><td>State St &amp; Pearson St</td><td>Clark St &amp; Schiller St</td><td>Subscriber</td><td>Male</td><td>1987.0</td></tr><tr><th>19</th><td>849468</td><td>2017-05-16T06:36:17</td><td>2017-05-16T06:59:34</td><td>1397</td><td>Michigan Ave &amp; Oak St</td><td>Halsted St &amp; Wrightwood Ave</td><td>Subscriber</td><td>Female</td><td>1992.0</td></tr><tr><th>20</th><td>1420915</td><td>2017-06-23T12:21:01</td><td>2017-06-23T12:32:54</td><td>713</td><td>Rush St &amp; Cedar St</td><td>Halsted St &amp; Willow St</td><td>Subscriber</td><td>Male</td><td>1985.0</td></tr><tr><th>21</th><td>161454</td><td>2017-02-12T15:24:29</td><td>2017-02-12T15:38:43</td><td>854</td><td>Clarendon Ave &amp; Leland Ave</td><td>Lake Shore Dr &amp; Belmont Ave</td><td>Subscriber</td><td>Male</td><td>1980.0</td></tr><tr><th>22</th><td>1413814</td><td>2017-06-22T19:14:37</td><td>2017-06-22T19:29:54</td><td>917</td><td>Bissell St &amp; Armitage Ave</td><td>Orleans St &amp; Chestnut St (NEXT Apts)</td><td>Subscriber</td><td>Female</td><td>1989.0</td></tr><tr><th>23</th><td>717248</td><td>2017-05-03T09:41:11</td><td>2017-05-03T09:49:10</td><td>479</td><td>Wabash Ave &amp; Roosevelt Rd</td><td>Halsted St &amp; Roosevelt Rd</td><td>Subscriber</td><td>Male</td><td>1992.0</td></tr><tr><th>24</th><td>1451810</td><td>2017-06-24T20:47:40</td><td>2017-06-24T21:13:39</td><td>1559</td><td>Rush St &amp; Cedar St</td><td>Halsted St &amp; Roscoe St</td><td>Subscriber</td><td>Male</td><td>1968.0</td></tr><tr><th>25</th><td>385517</td><td>2017-03-23T09:38:27</td><td>2017-03-23T09:42:41</td><td>254</td><td>Loomis St &amp; Jackson Blvd</td><td>Peoria St &amp; Jackson Blvd</td><td>Subscriber</td><td>Female</td><td>1985.0</td></tr><tr><th>26</th><td>1186035</td><td>2017-06-09T07:48:55</td><td>2017-06-09T07:52:30</td><td>215</td><td>Canal St &amp; Madison St</td><td>Clark St &amp; Randolph St</td><td>Subscriber</td><td>Male</td><td>1974.0</td></tr><tr><th>27</th><td>512692</td><td>2017-04-11T18:49:57</td><td>2017-04-11T18:59:36</td><td>579</td><td>Clinton St &amp; Lake St</td><td>Mies van der Rohe Way &amp; Chestnut St</td><td>Subscriber</td><td>Male</td><td>1989.0</td></tr><tr><th>28</th><td>261757</td><td>2017-02-25T19:01:19</td><td>2017-02-25T19:08:10</td><td>411</td><td>Halsted St &amp; Dickens Ave</td><td>Halsted St &amp; Wrightwood Ave</td><td>Subscriber</td><td>Male</td><td>1970.0</td></tr><tr><th>29</th><td>952396</td><td>2017-05-25T16:06:09</td><td>2017-05-25T16:12:49</td><td>400</td><td>Clinton St &amp; Madison St</td><td>Financial Pl &amp; Congress Pkwy</td><td>Subscriber</td><td>Male</td><td>1965.0</td></tr><tr><th>30</th><td>1359055</td><td>2017-06-19T17:43:17</td><td>2017-06-19T17:59:35</td><td>978</td><td>Larrabee St &amp; Armitage Ave</td><td>Dearborn Pkwy &amp; Delaware Pl</td><td>Subscriber</td><td>Female</td><td>1993.0</td></tr><tr><th>&vellip;</th><td>&vellip;</td><td>&vellip;</td><td>&vellip;</td><td>&vellip;</td><td>&vellip;</td><td>&vellip;</td><td>&vellip;</td><td>&vellip;</td><td>&vellip;</td></tr></tbody></table>"
      ],
      "text/plain": [
       "238948×9 DataFrame. Omitted printing of 5 columns\n",
       "│ Row    │ x       │ Start_Time          │ End_Time            │ Trip_Duration │\n",
       "│        │ \u001b[90mInt64⍰\u001b[39m  │ \u001b[90mDateTime\u001b[39m            │ \u001b[90mDateTime\u001b[39m            │ \u001b[90mInt64⍰\u001b[39m        │\n",
       "├────────┼─────────┼─────────────────────┼─────────────────────┼───────────────┤\n",
       "│ 1      │ 1423854 │ 2017-06-23T15:09:32 │ 2017-06-23T15:14:53 │ 321           │\n",
       "│ 2      │ 955915  │ 2017-05-25T18:19:03 │ 2017-05-25T18:45:53 │ 1610          │\n",
       "│ 3      │ 9031    │ 2017-01-04T08:27:49 │ 2017-01-04T08:34:45 │ 416           │\n",
       "│ 4      │ 304487  │ 2017-03-06T13:49:38 │ 2017-03-06T13:55:28 │ 350           │\n",
       "│ 5      │ 45207   │ 2017-01-17T14:53:07 │ 2017-01-17T15:02:01 │ 534           │\n",
       "│ 6      │ 1473887 │ 2017-06-26T09:01:20 │ 2017-06-26T09:11:06 │ 586           │\n",
       "│ 7      │ 961916  │ 2017-05-26T09:41:44 │ 2017-05-26T09:46:25 │ 281           │\n",
       "│ 8      │ 606841  │ 2017-04-20T16:08:51 │ 2017-04-20T16:20:20 │ 689           │\n",
       "│ 9      │ 135470  │ 2017-02-06T18:00:47 │ 2017-02-06T18:09:00 │ 493           │\n",
       "│ 10     │ 175805  │ 2017-02-15T07:09:55 │ 2017-02-15T07:14:56 │ 301           │\n",
       "⋮\n",
       "│ 238938 │ 474051  │ 2017-04-08T09:26:36 │ 2017-04-08T09:43:50 │ 1034          │\n",
       "│ 238939 │ 845283  │ 2017-05-15T17:59:48 │ 2017-05-15T18:05:29 │ 341           │\n",
       "│ 238940 │ 454645  │ 2017-04-04T17:16:49 │ 2017-04-04T17:35:00 │ 1091          │\n",
       "│ 238941 │ 712351  │ 2017-05-02T17:45:19 │ 2017-05-02T17:52:00 │ 401           │\n",
       "│ 238942 │ 1444489 │ 2017-06-24T15:28:12 │ 2017-06-24T16:08:11 │ 2399          │\n",
       "│ 238943 │ 723217  │ 2017-05-03T19:15:23 │ 2017-05-03T19:29:32 │ 849           │\n",
       "│ 238944 │ 1327248 │ 2017-06-17T16:44:16 │ 2017-06-17T16:50:57 │ 401           │\n",
       "│ 238945 │ 935129  │ 2017-05-23T17:08:04 │ 2017-05-23T17:11:37 │ 213           │\n",
       "│ 238946 │ 64825   │ 2017-01-21T13:18:00 │ 2017-01-21T13:27:50 │ 590           │\n",
       "│ 238947 │ 159685  │ 2017-02-12T09:59:01 │ 2017-02-12T10:21:49 │ 1368          │\n",
       "│ 238948 │ 1021247 │ 2017-05-30T12:38:28 │ 2017-05-30T12:55:36 │ 1028          │"
      ]
     },
     "execution_count": 31,
     "metadata": {},
     "output_type": "execute_result"
    }
   ],
   "source": [
    "df2 = load_data(\"Chicago\", true)"
   ]
  },
  {
   "cell_type": "code",
   "execution_count": 32,
   "metadata": {},
   "outputs": [
    {
     "data": {
      "text/html": [
       "<table class=\"data-frame\"><thead><tr><th></th><th>x</th><th>Start_Time</th><th>End_Time</th><th>Trip_Duration</th><th>Start_Station</th><th>End_Station</th><th>User_Type</th><th>Gender</th><th>Birth_Year</th></tr><tr><th></th><th>Int64⍰</th><th>DateTime</th><th>DateTime</th><th>Int64⍰</th><th>String⍰</th><th>String⍰</th><th>String⍰</th><th>String⍰</th><th>Float64⍰</th></tr></thead><tbody><tr><th>1</th><td>1423854</td><td>2017-06-23T15:09:32</td><td>2017-06-23T15:14:53</td><td>321</td><td>Wood St &amp; Hubbard St</td><td>Damen Ave &amp; Chicago Ave</td><td>Subscriber</td><td>Male</td><td>1992.0</td></tr><tr><th>2</th><td>955915</td><td>2017-05-25T18:19:03</td><td>2017-05-25T18:45:53</td><td>1610</td><td>Theater on the Lake</td><td>Sheffield Ave &amp; Waveland Ave</td><td>Subscriber</td><td>Female</td><td>1992.0</td></tr><tr><th>3</th><td>9031</td><td>2017-01-04T08:27:49</td><td>2017-01-04T08:34:45</td><td>416</td><td>May St &amp; Taylor St</td><td>Wood St &amp; Taylor St</td><td>Subscriber</td><td>Male</td><td>1981.0</td></tr><tr><th>4</th><td>304487</td><td>2017-03-06T13:49:38</td><td>2017-03-06T13:55:28</td><td>350</td><td>Christiana Ave &amp; Lawrence Ave</td><td>St. Louis Ave &amp; Balmoral Ave</td><td>Subscriber</td><td>Male</td><td>1986.0</td></tr><tr><th>5</th><td>45207</td><td>2017-01-17T14:53:07</td><td>2017-01-17T15:02:01</td><td>534</td><td>Clark St &amp; Randolph St</td><td>Desplaines St &amp; Jackson Blvd</td><td>Subscriber</td><td>Male</td><td>1975.0</td></tr><tr><th>6</th><td>1473887</td><td>2017-06-26T09:01:20</td><td>2017-06-26T09:11:06</td><td>586</td><td>Clinton St &amp; Washington Blvd</td><td>Canal St &amp; Taylor St</td><td>Subscriber</td><td>Male</td><td>1990.0</td></tr></tbody></table>"
      ],
      "text/plain": [
       "6×9 DataFrame. Omitted printing of 5 columns\n",
       "│ Row │ x       │ Start_Time          │ End_Time            │ Trip_Duration │\n",
       "│     │ \u001b[90mInt64⍰\u001b[39m  │ \u001b[90mDateTime\u001b[39m            │ \u001b[90mDateTime\u001b[39m            │ \u001b[90mInt64⍰\u001b[39m        │\n",
       "├─────┼─────────┼─────────────────────┼─────────────────────┼───────────────┤\n",
       "│ 1   │ 1423854 │ 2017-06-23T15:09:32 │ 2017-06-23T15:14:53 │ 321           │\n",
       "│ 2   │ 955915  │ 2017-05-25T18:19:03 │ 2017-05-25T18:45:53 │ 1610          │\n",
       "│ 3   │ 9031    │ 2017-01-04T08:27:49 │ 2017-01-04T08:34:45 │ 416           │\n",
       "│ 4   │ 304487  │ 2017-03-06T13:49:38 │ 2017-03-06T13:55:28 │ 350           │\n",
       "│ 5   │ 45207   │ 2017-01-17T14:53:07 │ 2017-01-17T15:02:01 │ 534           │\n",
       "│ 6   │ 1473887 │ 2017-06-26T09:01:20 │ 2017-06-26T09:11:06 │ 586           │"
      ]
     },
     "execution_count": 32,
     "metadata": {},
     "output_type": "execute_result"
    }
   ],
   "source": [
    "head(df1)"
   ]
  },
  {
   "cell_type": "code",
   "execution_count": 33,
   "metadata": {},
   "outputs": [
    {
     "data": {
      "text/html": [
       "<table class=\"data-frame\"><thead><tr><th></th><th>x</th><th>Start_Time</th><th>End_Time</th><th>Trip_Duration</th><th>Start_Station</th><th>End_Station</th><th>User_Type</th><th>Gender</th><th>Birth_Year</th></tr><tr><th></th><th>Int64⍰</th><th>DateTime</th><th>DateTime</th><th>Int64⍰</th><th>String⍰</th><th>String⍰</th><th>String⍰</th><th>String⍰</th><th>Float64⍰</th></tr></thead><tbody><tr><th>1</th><td>723217</td><td>2017-05-03T19:15:23</td><td>2017-05-03T19:29:32</td><td>849</td><td>Milwaukee Ave &amp; Wabansia Ave</td><td>Ashland Ave &amp; Chicago Ave</td><td>Subscriber</td><td>Female</td><td>1982.0</td></tr><tr><th>2</th><td>1327248</td><td>2017-06-17T16:44:16</td><td>2017-06-17T16:50:57</td><td>401</td><td>Sheffield Ave &amp; Willow St</td><td>Halsted St &amp; Dickens Ave</td><td>Subscriber</td><td>Male</td><td>1955.0</td></tr><tr><th>3</th><td>935129</td><td>2017-05-23T17:08:04</td><td>2017-05-23T17:11:37</td><td>213</td><td>Indiana Ave &amp; 31st St</td><td>MLK Jr Dr &amp; 29th St</td><td>Subscriber</td><td>Male</td><td>1988.0</td></tr><tr><th>4</th><td>64825</td><td>2017-01-21T13:18:00</td><td>2017-01-21T13:27:50</td><td>590</td><td>Orleans St &amp; Elm St (*)</td><td>Sheffield Ave &amp; Webster Ave</td><td>Subscriber</td><td>Male</td><td>1965.0</td></tr><tr><th>5</th><td>159685</td><td>2017-02-12T09:59:01</td><td>2017-02-12T10:21:49</td><td>1368</td><td>Ravenswood Ave &amp; Lawrence Ave</td><td>Stockton Dr &amp; Wrightwood Ave</td><td>Subscriber</td><td>Female</td><td>1988.0</td></tr><tr><th>6</th><td>1021247</td><td>2017-05-30T12:38:28</td><td>2017-05-30T12:55:36</td><td>1028</td><td>Wacker Dr &amp; Washington St</td><td>Damen Ave &amp; Division St</td><td>Subscriber</td><td>Male</td><td>1984.0</td></tr></tbody></table>"
      ],
      "text/plain": [
       "6×9 DataFrame. Omitted printing of 5 columns\n",
       "│ Row │ x       │ Start_Time          │ End_Time            │ Trip_Duration │\n",
       "│     │ \u001b[90mInt64⍰\u001b[39m  │ \u001b[90mDateTime\u001b[39m            │ \u001b[90mDateTime\u001b[39m            │ \u001b[90mInt64⍰\u001b[39m        │\n",
       "├─────┼─────────┼─────────────────────┼─────────────────────┼───────────────┤\n",
       "│ 1   │ 723217  │ 2017-05-03T19:15:23 │ 2017-05-03T19:29:32 │ 849           │\n",
       "│ 2   │ 1327248 │ 2017-06-17T16:44:16 │ 2017-06-17T16:50:57 │ 401           │\n",
       "│ 3   │ 935129  │ 2017-05-23T17:08:04 │ 2017-05-23T17:11:37 │ 213           │\n",
       "│ 4   │ 64825   │ 2017-01-21T13:18:00 │ 2017-01-21T13:27:50 │ 590           │\n",
       "│ 5   │ 159685  │ 2017-02-12T09:59:01 │ 2017-02-12T10:21:49 │ 1368          │\n",
       "│ 6   │ 1021247 │ 2017-05-30T12:38:28 │ 2017-05-30T12:55:36 │ 1028          │"
      ]
     },
     "execution_count": 33,
     "metadata": {},
     "output_type": "execute_result"
    }
   ],
   "source": [
    "tail(df1)"
   ]
  },
  {
   "cell_type": "code",
   "execution_count": 34,
   "metadata": {},
   "outputs": [
    {
     "data": {
      "text/html": [
       "<table class=\"data-frame\"><thead><tr><th></th><th>variable</th><th>mean</th><th>min</th><th>median</th><th>max</th><th>nunique</th><th>nmissing</th><th>eltype</th></tr><tr><th></th><th>Symbol</th><th>Union…</th><th>Any</th><th>Union…</th><th>Any</th><th>Union…</th><th>Union…</th><th>DataType</th></tr></thead><tbody><tr><th>1</th><td>x</td><td>7.42185e5</td><td>4</td><td>7.2265e5</td><td>1551500</td><td></td><td>0</td><td>Int64</td></tr><tr><th>2</th><td>Start_Time</td><td></td><td>2017-01-01T00:07:57</td><td></td><td>2017-06-30T23:59:01</td><td>234366</td><td></td><td>DateTime</td></tr><tr><th>3</th><td>End_Time</td><td></td><td>2017-01-01T00:20:53</td><td></td><td>2017-07-01T00:24:22</td><td>233978</td><td></td><td>DateTime</td></tr><tr><th>4</th><td>Trip_Duration</td><td>699.391</td><td>60</td><td>565.0</td><td>85742</td><td></td><td>0</td><td>Int64</td></tr><tr><th>5</th><td>Start_Station</td><td></td><td>2112 W Peterson Ave</td><td></td><td>Yates Blvd &amp; 75th St</td><td>560</td><td>0</td><td>String</td></tr><tr><th>6</th><td>End_Station</td><td></td><td>2112 W Peterson Ave</td><td></td><td>Yates Blvd &amp; 75th St</td><td>562</td><td>0</td><td>String</td></tr><tr><th>7</th><td>User_Type</td><td></td><td>Customer</td><td></td><td>Subscriber</td><td>3</td><td>0</td><td>String</td></tr><tr><th>8</th><td>Gender</td><td></td><td>Female</td><td></td><td>Male</td><td>2</td><td>0</td><td>String</td></tr><tr><th>9</th><td>Birth_Year</td><td>1980.86</td><td>1899.0</td><td>1984.0</td><td>2016.0</td><td></td><td>0</td><td>Float64</td></tr></tbody></table>"
      ],
      "text/plain": [
       "9×8 DataFrame. Omitted printing of 4 columns\n",
       "│ Row │ variable      │ mean      │ min                 │ median   │\n",
       "│     │ \u001b[90mSymbol\u001b[39m        │ \u001b[90mUnion…\u001b[39m    │ \u001b[90mAny\u001b[39m                 │ \u001b[90mUnion…\u001b[39m   │\n",
       "├─────┼───────────────┼───────────┼─────────────────────┼──────────┤\n",
       "│ 1   │ x             │ 7.42185e5 │ 4                   │ 7.2265e5 │\n",
       "│ 2   │ Start_Time    │           │ 2017-01-01T00:07:57 │          │\n",
       "│ 3   │ End_Time      │           │ 2017-01-01T00:20:53 │          │\n",
       "│ 4   │ Trip_Duration │ 699.391   │ 60                  │ 565.0    │\n",
       "│ 5   │ Start_Station │           │ 2112 W Peterson Ave │          │\n",
       "│ 6   │ End_Station   │           │ 2112 W Peterson Ave │          │\n",
       "│ 7   │ User_Type     │           │ Customer            │          │\n",
       "│ 8   │ Gender        │           │ Female              │          │\n",
       "│ 9   │ Birth_Year    │ 1980.86   │ 1899.0              │ 1984.0   │"
      ]
     },
     "execution_count": 34,
     "metadata": {},
     "output_type": "execute_result"
    }
   ],
   "source": [
    "describe(df1)"
   ]
  },
  {
   "cell_type": "code",
   "execution_count": 108,
   "metadata": {},
   "outputs": [
    {
     "data": {
      "text/html": [
       "<table class=\"data-frame\"><thead><tr><th></th><th>x</th><th>Start_Time</th><th>End_Time</th><th>Trip_Duration</th><th>Start_Station</th><th>End_Station</th><th>User_Type</th><th>Gender</th><th>Birth_Year</th></tr><tr><th></th><th>Int64⍰</th><th>DateTime</th><th>DateTime</th><th>Int64⍰</th><th>String⍰</th><th>String⍰</th><th>String⍰</th><th>String⍰</th><th>Float64⍰</th></tr></thead><tbody><tr><th>1</th><td>955915</td><td>2017-05-25T18:19:03</td><td>2017-05-25T18:45:53</td><td>1610</td><td>Michigan Ave &amp; Oak St</td><td>Sheffield Ave &amp; Waveland Ave</td><td>Subscriber</td><td>Female</td><td>1992.0</td></tr><tr><th>2</th><td>849468</td><td>2017-05-16T06:36:17</td><td>2017-05-16T06:59:34</td><td>1397</td><td>Michigan Ave &amp; Oak St</td><td>Halsted St &amp; Wrightwood Ave</td><td>Subscriber</td><td>Female</td><td>1992.0</td></tr></tbody></table>"
      ],
      "text/plain": [
       "2×9 DataFrame. Omitted printing of 5 columns\n",
       "│ Row │ x      │ Start_Time          │ End_Time            │ Trip_Duration │\n",
       "│     │ \u001b[90mInt64⍰\u001b[39m │ \u001b[90mDateTime\u001b[39m            │ \u001b[90mDateTime\u001b[39m            │ \u001b[90mInt64⍰\u001b[39m        │\n",
       "├─────┼────────┼─────────────────────┼─────────────────────┼───────────────┤\n",
       "│ 1   │ 955915 │ 2017-05-25T18:19:03 │ 2017-05-25T18:45:53 │ 1610          │\n",
       "│ 2   │ 849468 │ 2017-05-16T06:36:17 │ 2017-05-16T06:59:34 │ 1397          │"
      ]
     },
     "execution_count": 108,
     "metadata": {},
     "output_type": "execute_result"
    }
   ],
   "source": [
    "df1[(df1.Birth_Year .> 1990) .& (df1.Trip_Duration .> 1000) .& (df1.Gender .== \"Female\"), :][1:2,:]"
   ]
  },
  {
   "cell_type": "code",
   "execution_count": 132,
   "metadata": {},
   "outputs": [
    {
     "data": {
      "text/html": [
       "<table class=\"data-frame\"><thead><tr><th></th><th>x</th><th>Start_Time</th><th>End_Time</th><th>Trip_Duration</th><th>Start_Station</th><th>End_Station</th><th>User_Type</th><th>Gender</th><th>Birth_Year</th></tr><tr><th></th><th>Int64⍰</th><th>DateTime</th><th>DateTime</th><th>Int64⍰</th><th>String⍰</th><th>String⍰</th><th>String⍰</th><th>String⍰</th><th>Float64⍰</th></tr></thead><tbody><tr><th>1</th><td>849468</td><td>2017-05-16T06:36:17</td><td>2017-05-16T06:59:34</td><td>1397</td><td>Michigan Ave &amp; Oak St</td><td>Halsted St &amp; Wrightwood Ave</td><td>Subscriber</td><td>Female</td><td>1992.0</td></tr><tr><th>2</th><td>261757</td><td>2017-02-25T19:01:19</td><td>2017-02-25T19:08:10</td><td>411</td><td>Michigan Ave &amp; Oak St</td><td>Halsted St &amp; Wrightwood Ave</td><td>Subscriber</td><td>Male</td><td>1970.0</td></tr></tbody></table>"
      ],
      "text/plain": [
       "2×9 DataFrame. Omitted printing of 5 columns\n",
       "│ Row │ x      │ Start_Time          │ End_Time            │ Trip_Duration │\n",
       "│     │ \u001b[90mInt64⍰\u001b[39m │ \u001b[90mDateTime\u001b[39m            │ \u001b[90mDateTime\u001b[39m            │ \u001b[90mInt64⍰\u001b[39m        │\n",
       "├─────┼────────┼─────────────────────┼─────────────────────┼───────────────┤\n",
       "│ 1   │ 849468 │ 2017-05-16T06:36:17 │ 2017-05-16T06:59:34 │ 1397          │\n",
       "│ 2   │ 261757 │ 2017-02-25T19:01:19 │ 2017-02-25T19:08:10 │ 411           │"
      ]
     },
     "execution_count": 132,
     "metadata": {},
     "output_type": "execute_result"
    }
   ],
   "source": [
    "col_1 = df1[(df1.Start_Station .== \"Michigan Ave & Oak St\") .& (df1.End_Station .== \"Halsted St & Wrightwood Ave\") ,:][1:2,:]"
   ]
  },
  {
   "cell_type": "code",
   "execution_count": 133,
   "metadata": {},
   "outputs": [
    {
     "data": {
      "text/html": [
       "<table class=\"data-frame\"><thead><tr><th></th><th>x</th><th>Start_Time</th><th>End_Time</th><th>Trip_Duration</th><th>Start_Station</th><th>End_Station</th><th>User_Type</th><th>Gender</th><th>Birth_Year</th></tr><tr><th></th><th>Int64⍰</th><th>DateTime</th><th>DateTime</th><th>Int64⍰</th><th>String⍰</th><th>String⍰</th><th>String⍰</th><th>String⍰</th><th>Float64⍰</th></tr></thead><tbody><tr><th>1</th><td>1377062</td><td>2017-06-20T18:29:56</td><td>2017-06-20T19:00:22</td><td>1826</td><td>Michigan Ave &amp; Oak St</td><td>Lincoln Ave &amp; Addison St</td><td>Subscriber</td><td>Female</td><td>1991.0</td></tr><tr><th>2</th><td>1396870</td><td>2017-06-21T19:39:08</td><td>2017-06-21T20:11:52</td><td>1964</td><td>Michigan Ave &amp; Oak St</td><td>Lincoln Ave &amp; Addison St</td><td>Subscriber</td><td>Female</td><td>1996.0</td></tr></tbody></table>"
      ],
      "text/plain": [
       "2×9 DataFrame. Omitted printing of 5 columns\n",
       "│ Row │ x       │ Start_Time          │ End_Time            │ Trip_Duration │\n",
       "│     │ \u001b[90mInt64⍰\u001b[39m  │ \u001b[90mDateTime\u001b[39m            │ \u001b[90mDateTime\u001b[39m            │ \u001b[90mInt64⍰\u001b[39m        │\n",
       "├─────┼─────────┼─────────────────────┼─────────────────────┼───────────────┤\n",
       "│ 1   │ 1377062 │ 2017-06-20T18:29:56 │ 2017-06-20T19:00:22 │ 1826          │\n",
       "│ 2   │ 1396870 │ 2017-06-21T19:39:08 │ 2017-06-21T20:11:52 │ 1964          │"
      ]
     },
     "execution_count": 133,
     "metadata": {},
     "output_type": "execute_result"
    }
   ],
   "source": [
    "col_2 = df1[(df1.Start_Station .== \"Michigan Ave & Oak St\") .& (df1.End_Station .== \"Lincoln Ave & Addison St\") ,:][1:2,:]"
   ]
  },
  {
   "cell_type": "code",
   "execution_count": 135,
   "metadata": {},
   "outputs": [
    {
     "data": {
      "text/html": [
       "<table class=\"data-frame\"><thead><tr><th></th><th>x</th><th>Start_Time</th><th>End_Time</th><th>Trip_Duration</th><th>Start_Station</th><th>End_Station</th><th>User_Type</th><th>Gender</th><th>Birth_Year</th><th>x_1</th><th>Start_Time_1</th><th>End_Time_1</th><th>Trip_Duration_1</th><th>End_Station_1</th><th>User_Type_1</th><th>Gender_1</th><th>Birth_Year_1</th></tr><tr><th></th><th>Int64⍰</th><th>DateTime</th><th>DateTime</th><th>Int64⍰</th><th>String⍰</th><th>String⍰</th><th>String⍰</th><th>String⍰</th><th>Float64⍰</th><th>Int64⍰</th><th>DateTime</th><th>DateTime</th><th>Int64⍰</th><th>String⍰</th><th>String⍰</th><th>String⍰</th><th>Float64⍰</th></tr></thead><tbody><tr><th>1</th><td>849468</td><td>2017-05-16T06:36:17</td><td>2017-05-16T06:59:34</td><td>1397</td><td>Michigan Ave &amp; Oak St</td><td>Halsted St &amp; Wrightwood Ave</td><td>Subscriber</td><td>Female</td><td>1992.0</td><td>1377062</td><td>2017-06-20T18:29:56</td><td>2017-06-20T19:00:22</td><td>1826</td><td>Lincoln Ave &amp; Addison St</td><td>Subscriber</td><td>Female</td><td>1991.0</td></tr><tr><th>2</th><td>849468</td><td>2017-05-16T06:36:17</td><td>2017-05-16T06:59:34</td><td>1397</td><td>Michigan Ave &amp; Oak St</td><td>Halsted St &amp; Wrightwood Ave</td><td>Subscriber</td><td>Female</td><td>1992.0</td><td>1396870</td><td>2017-06-21T19:39:08</td><td>2017-06-21T20:11:52</td><td>1964</td><td>Lincoln Ave &amp; Addison St</td><td>Subscriber</td><td>Female</td><td>1996.0</td></tr><tr><th>3</th><td>261757</td><td>2017-02-25T19:01:19</td><td>2017-02-25T19:08:10</td><td>411</td><td>Michigan Ave &amp; Oak St</td><td>Halsted St &amp; Wrightwood Ave</td><td>Subscriber</td><td>Male</td><td>1970.0</td><td>1377062</td><td>2017-06-20T18:29:56</td><td>2017-06-20T19:00:22</td><td>1826</td><td>Lincoln Ave &amp; Addison St</td><td>Subscriber</td><td>Female</td><td>1991.0</td></tr><tr><th>4</th><td>261757</td><td>2017-02-25T19:01:19</td><td>2017-02-25T19:08:10</td><td>411</td><td>Michigan Ave &amp; Oak St</td><td>Halsted St &amp; Wrightwood Ave</td><td>Subscriber</td><td>Male</td><td>1970.0</td><td>1396870</td><td>2017-06-21T19:39:08</td><td>2017-06-21T20:11:52</td><td>1964</td><td>Lincoln Ave &amp; Addison St</td><td>Subscriber</td><td>Female</td><td>1996.0</td></tr></tbody></table>"
      ],
      "text/plain": [
       "4×17 DataFrame. Omitted printing of 13 columns\n",
       "│ Row │ x      │ Start_Time          │ End_Time            │ Trip_Duration │\n",
       "│     │ \u001b[90mInt64⍰\u001b[39m │ \u001b[90mDateTime\u001b[39m            │ \u001b[90mDateTime\u001b[39m            │ \u001b[90mInt64⍰\u001b[39m        │\n",
       "├─────┼────────┼─────────────────────┼─────────────────────┼───────────────┤\n",
       "│ 1   │ 849468 │ 2017-05-16T06:36:17 │ 2017-05-16T06:59:34 │ 1397          │\n",
       "│ 2   │ 849468 │ 2017-05-16T06:36:17 │ 2017-05-16T06:59:34 │ 1397          │\n",
       "│ 3   │ 261757 │ 2017-02-25T19:01:19 │ 2017-02-25T19:08:10 │ 411           │\n",
       "│ 4   │ 261757 │ 2017-02-25T19:01:19 │ 2017-02-25T19:08:10 │ 411           │"
      ]
     },
     "execution_count": 135,
     "metadata": {},
     "output_type": "execute_result"
    }
   ],
   "source": [
    "join(col_1, col_2, on = :Start_Station, kind = :inner)"
   ]
  },
  {
   "cell_type": "code",
   "execution_count": 143,
   "metadata": {},
   "outputs": [
    {
     "data": {
      "text/html": [
       "<table class=\"data-frame\"><thead><tr><th></th><th>x</th><th>Start_Time</th><th>End_Time</th><th>Trip_Duration</th><th>Start_Station</th><th>End_Station</th><th>User_Type</th><th>Gender</th><th>Birth_Year</th><th>x_1</th><th>Start_Time_1</th><th>End_Time_1</th><th>Trip_Duration_1</th><th>Start_Station_1</th><th>User_Type_1</th><th>Gender_1</th><th>Birth_Year_1</th></tr><tr><th></th><th>Int64⍰</th><th>DateTime⍰</th><th>DateTime⍰</th><th>Int64⍰</th><th>String⍰</th><th>String⍰</th><th>String⍰</th><th>String⍰</th><th>Float64⍰</th><th>Int64⍰</th><th>DateTime⍰</th><th>DateTime⍰</th><th>Int64⍰</th><th>String⍰</th><th>String⍰</th><th>String⍰</th><th>Float64⍰</th></tr></thead><tbody><tr><th>1</th><td>849468</td><td>2017-05-16T06:36:17</td><td>2017-05-16T06:59:34</td><td>1397</td><td>Michigan Ave &amp; Oak St</td><td>Halsted St &amp; Wrightwood Ave</td><td>Subscriber</td><td>Female</td><td>1992.0</td><td>missing</td><td>missing</td><td>missing</td><td>missing</td><td>missing</td><td>missing</td><td>missing</td><td>missing</td></tr><tr><th>2</th><td>261757</td><td>2017-02-25T19:01:19</td><td>2017-02-25T19:08:10</td><td>411</td><td>Michigan Ave &amp; Oak St</td><td>Halsted St &amp; Wrightwood Ave</td><td>Subscriber</td><td>Male</td><td>1970.0</td><td>missing</td><td>missing</td><td>missing</td><td>missing</td><td>missing</td><td>missing</td><td>missing</td><td>missing</td></tr><tr><th>3</th><td>missing</td><td>missing</td><td>missing</td><td>missing</td><td>missing</td><td>Lincoln Ave &amp; Addison St</td><td>missing</td><td>missing</td><td>missing</td><td>1377062</td><td>2017-06-20T18:29:56</td><td>2017-06-20T19:00:22</td><td>1826</td><td>Michigan Ave &amp; Oak St</td><td>Subscriber</td><td>Female</td><td>1991.0</td></tr><tr><th>4</th><td>missing</td><td>missing</td><td>missing</td><td>missing</td><td>missing</td><td>Lincoln Ave &amp; Addison St</td><td>missing</td><td>missing</td><td>missing</td><td>1396870</td><td>2017-06-21T19:39:08</td><td>2017-06-21T20:11:52</td><td>1964</td><td>Michigan Ave &amp; Oak St</td><td>Subscriber</td><td>Female</td><td>1996.0</td></tr></tbody></table>"
      ],
      "text/plain": [
       "4×17 DataFrame. Omitted printing of 13 columns\n",
       "│ Row │ x       │ Start_Time          │ End_Time            │ Trip_Duration │\n",
       "│     │ \u001b[90mInt64⍰\u001b[39m  │ \u001b[90mDateTime⍰\u001b[39m           │ \u001b[90mDateTime⍰\u001b[39m           │ \u001b[90mInt64⍰\u001b[39m        │\n",
       "├─────┼─────────┼─────────────────────┼─────────────────────┼───────────────┤\n",
       "│ 1   │ 849468  │ 2017-05-16T06:36:17 │ 2017-05-16T06:59:34 │ 1397          │\n",
       "│ 2   │ 261757  │ 2017-02-25T19:01:19 │ 2017-02-25T19:08:10 │ 411           │\n",
       "│ 3   │ \u001b[90mmissing\u001b[39m │ \u001b[90mmissing\u001b[39m             │ \u001b[90mmissing\u001b[39m             │ \u001b[90mmissing\u001b[39m       │\n",
       "│ 4   │ \u001b[90mmissing\u001b[39m │ \u001b[90mmissing\u001b[39m             │ \u001b[90mmissing\u001b[39m             │ \u001b[90mmissing\u001b[39m       │"
      ]
     },
     "execution_count": 143,
     "metadata": {},
     "output_type": "execute_result"
    }
   ],
   "source": [
    "join(col_1, col_2, on = :End_Station, kind = :outer)"
   ]
  },
  {
   "cell_type": "code",
   "execution_count": 144,
   "metadata": {},
   "outputs": [
    {
     "data": {
      "text/html": [
       "<table class=\"data-frame\"><thead><tr><th></th><th>x</th><th>Start_Time</th><th>End_Time</th><th>Trip_Duration</th><th>Start_Station</th><th>End_Station</th><th>User_Type</th><th>Gender</th><th>Birth_Year</th></tr><tr><th></th><th>Int64⍰</th><th>DateTime</th><th>DateTime</th><th>Int64⍰</th><th>String⍰</th><th>String⍰</th><th>String⍰</th><th>String⍰</th><th>Float64⍰</th></tr></thead><tbody><tr><th>1</th><td>261757</td><td>2017-02-25T19:01:19</td><td>2017-02-25T19:08:10</td><td>411</td><td>Michigan Ave &amp; Oak St</td><td>Halsted St &amp; Wrightwood Ave</td><td>Subscriber</td><td>Male</td><td>1970.0</td></tr></tbody></table>"
      ],
      "text/plain": [
       "1×9 DataFrame. Omitted printing of 5 columns\n",
       "│ Row │ x      │ Start_Time          │ End_Time            │ Trip_Duration │\n",
       "│     │ \u001b[90mInt64⍰\u001b[39m │ \u001b[90mDateTime\u001b[39m            │ \u001b[90mDateTime\u001b[39m            │ \u001b[90mInt64⍰\u001b[39m        │\n",
       "├─────┼────────┼─────────────────────┼─────────────────────┼───────────────┤\n",
       "│ 1   │ 261757 │ 2017-02-25T19:01:19 │ 2017-02-25T19:08:10 │ 411           │"
      ]
     },
     "execution_count": 144,
     "metadata": {},
     "output_type": "execute_result"
    }
   ],
   "source": [
    "join(col_1, col_2, on = :Gender, kind = :anti)"
   ]
  },
  {
   "cell_type": "code",
   "execution_count": 141,
   "metadata": {},
   "outputs": [
    {
     "data": {
      "text/html": [
       "<table class=\"data-frame\"><thead><tr><th></th><th>x</th><th>Start_Time</th><th>End_Time</th><th>Trip_Duration</th><th>Start_Station</th><th>End_Station</th><th>User_Type</th><th>Gender</th><th>Birth_Year</th><th>x_1</th><th>Start_Time_1</th><th>End_Time_1</th><th>Trip_Duration_1</th><th>Start_Station_1</th><th>End_Station_1</th><th>User_Type_1</th><th>Gender_1</th><th>Birth_Year_1</th></tr><tr><th></th><th>Int64⍰</th><th>DateTime</th><th>DateTime</th><th>Int64⍰</th><th>String⍰</th><th>String⍰</th><th>String⍰</th><th>String⍰</th><th>Float64⍰</th><th>Int64⍰</th><th>DateTime</th><th>DateTime</th><th>Int64⍰</th><th>String⍰</th><th>String⍰</th><th>String⍰</th><th>String⍰</th><th>Float64⍰</th></tr></thead><tbody><tr><th>1</th><td>849468</td><td>2017-05-16T06:36:17</td><td>2017-05-16T06:59:34</td><td>1397</td><td>Michigan Ave &amp; Oak St</td><td>Halsted St &amp; Wrightwood Ave</td><td>Subscriber</td><td>Female</td><td>1992.0</td><td>1377062</td><td>2017-06-20T18:29:56</td><td>2017-06-20T19:00:22</td><td>1826</td><td>Michigan Ave &amp; Oak St</td><td>Lincoln Ave &amp; Addison St</td><td>Subscriber</td><td>Female</td><td>1991.0</td></tr><tr><th>2</th><td>849468</td><td>2017-05-16T06:36:17</td><td>2017-05-16T06:59:34</td><td>1397</td><td>Michigan Ave &amp; Oak St</td><td>Halsted St &amp; Wrightwood Ave</td><td>Subscriber</td><td>Female</td><td>1992.0</td><td>1396870</td><td>2017-06-21T19:39:08</td><td>2017-06-21T20:11:52</td><td>1964</td><td>Michigan Ave &amp; Oak St</td><td>Lincoln Ave &amp; Addison St</td><td>Subscriber</td><td>Female</td><td>1996.0</td></tr><tr><th>3</th><td>261757</td><td>2017-02-25T19:01:19</td><td>2017-02-25T19:08:10</td><td>411</td><td>Michigan Ave &amp; Oak St</td><td>Halsted St &amp; Wrightwood Ave</td><td>Subscriber</td><td>Male</td><td>1970.0</td><td>1377062</td><td>2017-06-20T18:29:56</td><td>2017-06-20T19:00:22</td><td>1826</td><td>Michigan Ave &amp; Oak St</td><td>Lincoln Ave &amp; Addison St</td><td>Subscriber</td><td>Female</td><td>1991.0</td></tr><tr><th>4</th><td>261757</td><td>2017-02-25T19:01:19</td><td>2017-02-25T19:08:10</td><td>411</td><td>Michigan Ave &amp; Oak St</td><td>Halsted St &amp; Wrightwood Ave</td><td>Subscriber</td><td>Male</td><td>1970.0</td><td>1396870</td><td>2017-06-21T19:39:08</td><td>2017-06-21T20:11:52</td><td>1964</td><td>Michigan Ave &amp; Oak St</td><td>Lincoln Ave &amp; Addison St</td><td>Subscriber</td><td>Female</td><td>1996.0</td></tr></tbody></table>"
      ],
      "text/plain": [
       "4×18 DataFrame. Omitted printing of 14 columns\n",
       "│ Row │ x      │ Start_Time          │ End_Time            │ Trip_Duration │\n",
       "│     │ \u001b[90mInt64⍰\u001b[39m │ \u001b[90mDateTime\u001b[39m            │ \u001b[90mDateTime\u001b[39m            │ \u001b[90mInt64⍰\u001b[39m        │\n",
       "├─────┼────────┼─────────────────────┼─────────────────────┼───────────────┤\n",
       "│ 1   │ 849468 │ 2017-05-16T06:36:17 │ 2017-05-16T06:59:34 │ 1397          │\n",
       "│ 2   │ 849468 │ 2017-05-16T06:36:17 │ 2017-05-16T06:59:34 │ 1397          │\n",
       "│ 3   │ 261757 │ 2017-02-25T19:01:19 │ 2017-02-25T19:08:10 │ 411           │\n",
       "│ 4   │ 261757 │ 2017-02-25T19:01:19 │ 2017-02-25T19:08:10 │ 411           │"
      ]
     },
     "execution_count": 141,
     "metadata": {},
     "output_type": "execute_result"
    }
   ],
   "source": [
    "join(col_1, col_2, kind = :cross, makeunique=true)"
   ]
  },
  {
   "cell_type": "code",
   "execution_count": 148,
   "metadata": {},
   "outputs": [
    {
     "data": {
      "text/html": [
       "<table class=\"data-frame\"><thead><tr><th></th><th>Gender</th><th>x1</th></tr><tr><th></th><th>String⍰</th><th>Float64</th></tr></thead><tbody><tr><th>1</th><td>Male</td><td>673.212</td></tr><tr><th>2</th><td>Female</td><td>781.516</td></tr></tbody></table>"
      ],
      "text/plain": [
       "2×2 DataFrame\n",
       "│ Row │ Gender  │ x1      │\n",
       "│     │ \u001b[90mString⍰\u001b[39m │ \u001b[90mFloat64\u001b[39m │\n",
       "├─────┼─────────┼─────────┤\n",
       "│ 1   │ Male    │ 673.212 │\n",
       "│ 2   │ Female  │ 781.516 │"
      ]
     },
     "execution_count": 148,
     "metadata": {},
     "output_type": "execute_result"
    }
   ],
   "source": [
    "by(df1, :Gender, df1 -> mean(df1.Trip_Duration))"
   ]
  },
  {
   "cell_type": "code",
   "execution_count": 150,
   "metadata": {},
   "outputs": [
    {
     "data": {
      "text/html": [
       "<table class=\"data-frame\"><thead><tr><th></th><th>User_Type</th><th>m</th><th>s²</th></tr><tr><th></th><th>String⍰</th><th>Float64</th><th>Float64</th></tr></thead><tbody><tr><th>1</th><td>Subscriber</td><td>699.351</td><td>9.83955e5</td></tr><tr><th>2</th><td>Customer</td><td>807.637</td><td>3.76558e5</td></tr><tr><th>3</th><td>Dependent</td><td>311.0</td><td>NaN</td></tr></tbody></table>"
      ],
      "text/plain": [
       "3×3 DataFrame\n",
       "│ Row │ User_Type  │ m       │ s²        │\n",
       "│     │ \u001b[90mString⍰\u001b[39m    │ \u001b[90mFloat64\u001b[39m │ \u001b[90mFloat64\u001b[39m   │\n",
       "├─────┼────────────┼─────────┼───────────┤\n",
       "│ 1   │ Subscriber │ 699.351 │ 9.83955e5 │\n",
       "│ 2   │ Customer   │ 807.637 │ 3.76558e5 │\n",
       "│ 3   │ Dependent  │ 311.0   │ NaN       │"
      ]
     },
     "execution_count": 150,
     "metadata": {},
     "output_type": "execute_result"
    }
   ],
   "source": [
    "by(df1, :User_Type) do df1\n",
    "    DataFrame(m = mean(df1.Trip_Duration), s² = var(df1.Trip_Duration))\n",
    "end"
   ]
  },
  {
   "cell_type": "code",
   "execution_count": 159,
   "metadata": {},
   "outputs": [
    {
     "data": {
      "text/html": [
       "<table class=\"data-frame\"><thead><tr><th></th><th>Birth_Year</th><th>x_typeof</th><th>Start_Time_typeof</th><th>End_Time_typeof</th><th>Trip_Duration_typeof</th><th>Start_Station_typeof</th><th>End_Station_typeof</th><th>User_Type_typeof</th><th>Gender_typeof</th></tr><tr><th></th><th>Float64⍰</th><th>DataType</th><th>DataType</th><th>DataType</th><th>DataType</th><th>DataType</th><th>DataType</th><th>DataType</th><th>DataType</th></tr></thead><tbody><tr><th>1</th><td>1992.0</td><td>Array{Union{Missing, Int64},1}</td><td>Array{DateTime,1}</td><td>Array{DateTime,1}</td><td>Array{Union{Missing, Int64},1}</td><td>Array{Union{Missing, String},1}</td><td>Array{Union{Missing, String},1}</td><td>Array{Union{Missing, String},1}</td><td>Array{Union{Missing, String},1}</td></tr><tr><th>2</th><td>1970.0</td><td>Array{Union{Missing, Int64},1}</td><td>Array{DateTime,1}</td><td>Array{DateTime,1}</td><td>Array{Union{Missing, Int64},1}</td><td>Array{Union{Missing, String},1}</td><td>Array{Union{Missing, String},1}</td><td>Array{Union{Missing, String},1}</td><td>Array{Union{Missing, String},1}</td></tr></tbody></table>"
      ],
      "text/plain": [
       "2×9 DataFrame. Omitted printing of 6 columns\n",
       "│ Row │ Birth_Year │ x_typeof                       │ Start_Time_typeof │\n",
       "│     │ \u001b[90mFloat64⍰\u001b[39m   │ \u001b[90mDataType\u001b[39m                       │ \u001b[90mDataType\u001b[39m          │\n",
       "├─────┼────────────┼────────────────────────────────┼───────────────────┤\n",
       "│ 1   │ 1992.0     │ Array{Union{Missing, Int64},1} │ Array{DateTime,1} │\n",
       "│ 2   │ 1970.0     │ Array{Union{Missing, Int64},1} │ Array{DateTime,1} │"
      ]
     },
     "execution_count": 159,
     "metadata": {},
     "output_type": "execute_result"
    }
   ],
   "source": [
    "aggregate(col_1, :Birth_Year, typeof)"
   ]
  },
  {
   "cell_type": "code",
   "execution_count": 160,
   "metadata": {},
   "outputs": [
    {
     "data": {
      "text/plain": [
       "Missing"
      ]
     },
     "execution_count": 160,
     "metadata": {},
     "output_type": "execute_result"
    }
   ],
   "source": [
    "typeof(missing)"
   ]
  },
  {
   "cell_type": "code",
   "execution_count": 164,
   "metadata": {},
   "outputs": [
    {
     "data": {
      "text/html": [
       "<table class=\"data-frame\"><thead><tr><th></th><th>x</th><th>Start_Time</th><th>End_Time</th><th>Trip_Duration</th><th>Start_Station</th><th>End_Station</th><th>User_Type</th><th>Gender</th><th>Birth_Year</th></tr><tr><th></th><th>Int64⍰</th><th>DateTime</th><th>DateTime</th><th>Int64⍰</th><th>String⍰</th><th>String⍰</th><th>String⍰</th><th>String⍰</th><th>Float64⍰</th></tr></thead><tbody><tr><th>1</th><td>104080</td><td>2017-01-30T11:58:04</td><td>2017-01-30T11:59:04</td><td>60</td><td>Michigan Ave &amp; Oak St</td><td>Ashland Ave &amp; 21st St</td><td>Subscriber</td><td>Male</td><td>1949.0</td></tr><tr><th>2</th><td>1399109</td><td>2017-06-21T22:24:54</td><td>2017-06-21T22:25:54</td><td>60</td><td>Michigan Ave &amp; Oak St</td><td>Clinton St &amp; Madison St</td><td>Subscriber</td><td>Male</td><td>1955.0</td></tr><tr><th>3</th><td>1286867</td><td>2017-06-15T09:17:38</td><td>2017-06-15T09:18:38</td><td>60</td><td>Michigan Ave &amp; Oak St</td><td>Western Ave &amp; Winnebago Ave</td><td>Subscriber</td><td>Male</td><td>1956.0</td></tr><tr><th>4</th><td>124303</td><td>2017-02-03T16:53:51</td><td>2017-02-03T16:54:51</td><td>60</td><td>Michigan Ave &amp; Oak St</td><td>Canal St &amp; Adams St</td><td>Subscriber</td><td>Male</td><td>1964.0</td></tr><tr><th>5</th><td>599295</td><td>2017-04-19T18:27:12</td><td>2017-04-19T18:28:12</td><td>60</td><td>Michigan Ave &amp; Oak St</td><td>Orleans St &amp; Merchandise Mart Plaza</td><td>Subscriber</td><td>Male</td><td>1972.0</td></tr><tr><th>6</th><td>1466472</td><td>2017-06-25T17:46:40</td><td>2017-06-25T17:47:40</td><td>60</td><td>Michigan Ave &amp; Oak St</td><td>State St &amp; 19th St</td><td>Subscriber</td><td>Female</td><td>1972.0</td></tr><tr><th>7</th><td>1261790</td><td>2017-06-13T13:15:20</td><td>2017-06-13T13:16:20</td><td>60</td><td>Michigan Ave &amp; Oak St</td><td>Larrabee St &amp; Webster Ave</td><td>Subscriber</td><td>Female</td><td>1973.0</td></tr><tr><th>8</th><td>971879</td><td>2017-05-27T12:24:34</td><td>2017-05-27T12:25:34</td><td>60</td><td>Michigan Ave &amp; Oak St</td><td>Theater on the Lake</td><td>Subscriber</td><td>Male</td><td>1977.0</td></tr><tr><th>9</th><td>143331</td><td>2017-02-08T11:33:55</td><td>2017-02-08T11:34:55</td><td>60</td><td>Michigan Ave &amp; Oak St</td><td>Peoria St &amp; Jackson Blvd</td><td>Subscriber</td><td>Male</td><td>1978.0</td></tr><tr><th>10</th><td>314465</td><td>2017-03-07T17:53:59</td><td>2017-03-07T17:54:59</td><td>60</td><td>Michigan Ave &amp; Oak St</td><td>Clinton St &amp; Madison St</td><td>Subscriber</td><td>Male</td><td>1982.0</td></tr><tr><th>11</th><td>1261155</td><td>2017-06-13T12:23:45</td><td>2017-06-13T12:24:45</td><td>60</td><td>Michigan Ave &amp; Oak St</td><td>Streeter Dr &amp; Grand Ave</td><td>Subscriber</td><td>Female</td><td>1986.0</td></tr><tr><th>12</th><td>591526</td><td>2017-04-18T21:25:49</td><td>2017-04-18T21:26:49</td><td>60</td><td>Michigan Ave &amp; Oak St</td><td>McClurg Ct &amp; Illinois St</td><td>Subscriber</td><td>Male</td><td>1987.0</td></tr><tr><th>13</th><td>769875</td><td>2017-05-09T14:47:38</td><td>2017-05-09T14:48:38</td><td>60</td><td>Michigan Ave &amp; Oak St</td><td>LaSalle St &amp; Adams St</td><td>Subscriber</td><td>Female</td><td>1987.0</td></tr><tr><th>14</th><td>109731</td><td>2017-01-31T16:28:02</td><td>2017-01-31T16:29:02</td><td>60</td><td>Michigan Ave &amp; Oak St</td><td>Ada St &amp; Washington Blvd</td><td>Subscriber</td><td>Female</td><td>1988.0</td></tr><tr><th>15</th><td>1338373</td><td>2017-06-18T14:16:48</td><td>2017-06-18T14:17:48</td><td>60</td><td>Michigan Ave &amp; Oak St</td><td>Loomis St &amp; Lexington St</td><td>Subscriber</td><td>Male</td><td>1989.0</td></tr><tr><th>16</th><td>457132</td><td>2017-04-04T22:21:33</td><td>2017-04-04T22:22:33</td><td>60</td><td>Michigan Ave &amp; Oak St</td><td>Humboldt Blvd &amp; Armitage Ave</td><td>Subscriber</td><td>Male</td><td>1990.0</td></tr><tr><th>17</th><td>1096056</td><td>2017-06-03T18:26:56</td><td>2017-06-03T18:27:56</td><td>60</td><td>Michigan Ave &amp; Oak St</td><td>MLK Jr Dr &amp; 29th St</td><td>Subscriber</td><td>Male</td><td>1990.0</td></tr><tr><th>18</th><td>419518</td><td>2017-03-29T09:46:27</td><td>2017-03-29T09:47:27</td><td>60</td><td>Michigan Ave &amp; Oak St</td><td>MLK Jr Dr &amp; 29th St</td><td>Subscriber</td><td>Male</td><td>1991.0</td></tr><tr><th>19</th><td>681705</td><td>2017-04-27T08:35:22</td><td>2017-04-27T08:36:22</td><td>60</td><td>Michigan Ave &amp; Oak St</td><td>Lake Park Ave &amp; 56th St</td><td>Subscriber</td><td>Male</td><td>1991.0</td></tr><tr><th>20</th><td>704384</td><td>2017-05-01T15:23:35</td><td>2017-05-01T15:24:35</td><td>60</td><td>Michigan Ave &amp; Oak St</td><td>State St &amp; 33rd St</td><td>Subscriber</td><td>Male</td><td>1991.0</td></tr><tr><th>21</th><td>914807</td><td>2017-05-21T20:30:29</td><td>2017-05-21T20:31:29</td><td>60</td><td>Michigan Ave &amp; Oak St</td><td>Adler Planetarium</td><td>Subscriber</td><td>Male</td><td>1992.0</td></tr><tr><th>22</th><td>1459207</td><td>2017-06-25T13:05:00</td><td>2017-06-25T13:06:00</td><td>60</td><td>Michigan Ave &amp; Oak St</td><td>Campbell Ave &amp; North Ave</td><td>Subscriber</td><td>Female</td><td>1992.0</td></tr><tr><th>23</th><td>1456787</td><td>2017-06-25T11:21:04</td><td>2017-06-25T11:22:04</td><td>60</td><td>Michigan Ave &amp; Oak St</td><td>Streeter Dr &amp; Grand Ave</td><td>Subscriber</td><td>Female</td><td>1993.0</td></tr><tr><th>24</th><td>1273518</td><td>2017-06-14T07:33:23</td><td>2017-06-14T07:34:23</td><td>60</td><td>Michigan Ave &amp; Oak St</td><td>LaSalle St &amp; Washington St</td><td>Subscriber</td><td>Female</td><td>1995.0</td></tr><tr><th>25</th><td>150328</td><td>2017-02-09T21:23:58</td><td>2017-02-09T21:24:59</td><td>61</td><td>Michigan Ave &amp; Oak St</td><td>Clark St &amp; Randolph St</td><td>Subscriber</td><td>Male</td><td>1950.0</td></tr><tr><th>26</th><td>4750</td><td>2017-01-03T08:31:57</td><td>2017-01-03T08:32:58</td><td>61</td><td>Michigan Ave &amp; Oak St</td><td>Indiana Ave &amp; Roosevelt Rd</td><td>Subscriber</td><td>Male</td><td>1959.0</td></tr><tr><th>27</th><td>701785</td><td>2017-05-01T08:20:58</td><td>2017-05-01T08:21:59</td><td>61</td><td>Michigan Ave &amp; Oak St</td><td>Michigan Ave &amp; Lake St</td><td>Subscriber</td><td>Male</td><td>1966.0</td></tr><tr><th>28</th><td>648774</td><td>2017-04-24T16:22:25</td><td>2017-04-24T16:23:26</td><td>61</td><td>Michigan Ave &amp; Oak St</td><td>Franklin St &amp; Monroe St</td><td>Subscriber</td><td>Female</td><td>1970.0</td></tr><tr><th>29</th><td>1144418</td><td>2017-06-06T17:34:42</td><td>2017-06-06T17:35:43</td><td>61</td><td>Michigan Ave &amp; Oak St</td><td>Damen Ave &amp; Pierce Ave</td><td>Subscriber</td><td>Female</td><td>1977.0</td></tr><tr><th>30</th><td>1485578</td><td>2017-06-26T19:30:00</td><td>2017-06-26T19:31:01</td><td>61</td><td>Michigan Ave &amp; Oak St</td><td>Ashland Ave &amp; Lake St</td><td>Subscriber</td><td>Female</td><td>1980.0</td></tr><tr><th>&vellip;</th><td>&vellip;</td><td>&vellip;</td><td>&vellip;</td><td>&vellip;</td><td>&vellip;</td><td>&vellip;</td><td>&vellip;</td><td>&vellip;</td><td>&vellip;</td></tr></tbody></table>"
      ],
      "text/plain": [
       "238948×9 DataFrame. Omitted printing of 5 columns\n",
       "│ Row    │ x       │ Start_Time          │ End_Time            │ Trip_Duration │\n",
       "│        │ \u001b[90mInt64⍰\u001b[39m  │ \u001b[90mDateTime\u001b[39m            │ \u001b[90mDateTime\u001b[39m            │ \u001b[90mInt64⍰\u001b[39m        │\n",
       "├────────┼─────────┼─────────────────────┼─────────────────────┼───────────────┤\n",
       "│ 1      │ 104080  │ 2017-01-30T11:58:04 │ 2017-01-30T11:59:04 │ 60            │\n",
       "│ 2      │ 1399109 │ 2017-06-21T22:24:54 │ 2017-06-21T22:25:54 │ 60            │\n",
       "│ 3      │ 1286867 │ 2017-06-15T09:17:38 │ 2017-06-15T09:18:38 │ 60            │\n",
       "│ 4      │ 124303  │ 2017-02-03T16:53:51 │ 2017-02-03T16:54:51 │ 60            │\n",
       "│ 5      │ 599295  │ 2017-04-19T18:27:12 │ 2017-04-19T18:28:12 │ 60            │\n",
       "│ 6      │ 1466472 │ 2017-06-25T17:46:40 │ 2017-06-25T17:47:40 │ 60            │\n",
       "│ 7      │ 1261790 │ 2017-06-13T13:15:20 │ 2017-06-13T13:16:20 │ 60            │\n",
       "│ 8      │ 971879  │ 2017-05-27T12:24:34 │ 2017-05-27T12:25:34 │ 60            │\n",
       "│ 9      │ 143331  │ 2017-02-08T11:33:55 │ 2017-02-08T11:34:55 │ 60            │\n",
       "│ 10     │ 314465  │ 2017-03-07T17:53:59 │ 2017-03-07T17:54:59 │ 60            │\n",
       "⋮\n",
       "│ 238938 │ 15988   │ 2017-01-06T16:26:07 │ 2017-01-07T11:37:07 │ 69060         │\n",
       "│ 238939 │ 133136  │ 2017-02-06T13:34:54 │ 2017-02-07T08:55:57 │ 69663         │\n",
       "│ 238940 │ 1362988 │ 2017-06-19T21:48:45 │ 2017-06-20T17:32:27 │ 71022         │\n",
       "│ 238941 │ 375392  │ 2017-03-21T16:27:03 │ 2017-03-22T12:37:03 │ 72600         │\n",
       "│ 238942 │ 135434  │ 2017-02-06T17:57:14 │ 2017-02-07T14:22:50 │ 73536         │\n",
       "│ 238943 │ 22147   │ 2017-01-09T17:00:34 │ 2017-01-10T13:39:56 │ 74362         │\n",
       "│ 238944 │ 264867  │ 2017-02-26T18:40:42 │ 2017-02-27T16:18:47 │ 77885         │\n",
       "│ 238945 │ 49262   │ 2017-01-18T09:14:54 │ 2017-01-19T07:25:07 │ 79813         │\n",
       "│ 238946 │ 10473   │ 2017-01-04T17:06:17 │ 2017-01-05T15:32:34 │ 80777         │\n",
       "│ 238947 │ 512635  │ 2017-04-11T18:45:19 │ 2017-04-12T18:31:31 │ 85572         │\n",
       "│ 238948 │ 217922  │ 2017-02-19T16:02:00 │ 2017-02-20T15:51:02 │ 85742         │"
      ]
     },
     "execution_count": 164,
     "metadata": {},
     "output_type": "execute_result"
    }
   ],
   "source": [
    "sort!(df1, (:Trip_Duration, :Start_Station, :Birth_Year))"
   ]
  },
  {
   "cell_type": "code",
   "execution_count": 165,
   "metadata": {},
   "outputs": [
    {
     "data": {
      "text/html": [
       "<table class=\"data-frame\"><thead><tr><th></th><th>x</th><th>Start_Time</th><th>End_Time</th><th>Trip_Duration</th><th>Start_Station</th><th>End_Station</th><th>User_Type</th><th>Gender</th><th>Birth_Year</th></tr><tr><th></th><th>Int64⍰</th><th>DateTime</th><th>DateTime</th><th>Int64⍰</th><th>String⍰</th><th>String⍰</th><th>String⍰</th><th>String⍰</th><th>Float64⍰</th></tr></thead><tbody><tr><th>1</th><td>217922</td><td>2017-02-19T16:02:00</td><td>2017-02-20T15:51:02</td><td>85742</td><td>Michigan Ave &amp; Oak St</td><td>Halsted St &amp; Blackhawk St (*)</td><td>Subscriber</td><td>Female</td><td>1972.0</td></tr><tr><th>2</th><td>512635</td><td>2017-04-11T18:45:19</td><td>2017-04-12T18:31:31</td><td>85572</td><td>Michigan Ave &amp; Oak St</td><td>Lake Shore Dr &amp; Wellington Ave</td><td>Subscriber</td><td>Male</td><td>1984.0</td></tr><tr><th>3</th><td>10473</td><td>2017-01-04T17:06:17</td><td>2017-01-05T15:32:34</td><td>80777</td><td>Michigan Ave &amp; Oak St</td><td>Clark St &amp; Schiller St</td><td>Subscriber</td><td>Male</td><td>1976.0</td></tr><tr><th>4</th><td>49262</td><td>2017-01-18T09:14:54</td><td>2017-01-19T07:25:07</td><td>79813</td><td>Michigan Ave &amp; Oak St</td><td>Clark St &amp; Lake St</td><td>Subscriber</td><td>Female</td><td>1971.0</td></tr><tr><th>5</th><td>264867</td><td>2017-02-26T18:40:42</td><td>2017-02-27T16:18:47</td><td>77885</td><td>Michigan Ave &amp; Oak St</td><td>Clark St &amp; Grace St</td><td>Subscriber</td><td>Male</td><td>1992.0</td></tr><tr><th>6</th><td>22147</td><td>2017-01-09T17:00:34</td><td>2017-01-10T13:39:56</td><td>74362</td><td>Michigan Ave &amp; Oak St</td><td>Larrabee St &amp; North Ave</td><td>Subscriber</td><td>Male</td><td>1970.0</td></tr><tr><th>7</th><td>135434</td><td>2017-02-06T17:57:14</td><td>2017-02-07T14:22:50</td><td>73536</td><td>Michigan Ave &amp; Oak St</td><td>Western Ave &amp; Winnebago Ave</td><td>Subscriber</td><td>Female</td><td>1983.0</td></tr><tr><th>8</th><td>375392</td><td>2017-03-21T16:27:03</td><td>2017-03-22T12:37:03</td><td>72600</td><td>Michigan Ave &amp; Oak St</td><td>Broadway &amp; Waveland Ave</td><td>Subscriber</td><td>Male</td><td>1963.0</td></tr><tr><th>9</th><td>1362988</td><td>2017-06-19T21:48:45</td><td>2017-06-20T17:32:27</td><td>71022</td><td>Michigan Ave &amp; Oak St</td><td>Bissell St &amp; Armitage Ave</td><td>Subscriber</td><td>Male</td><td>1969.0</td></tr><tr><th>10</th><td>133136</td><td>2017-02-06T13:34:54</td><td>2017-02-07T08:55:57</td><td>69663</td><td>Michigan Ave &amp; Oak St</td><td>Marine Dr &amp; Ainslie St</td><td>Subscriber</td><td>Female</td><td>1991.0</td></tr><tr><th>11</th><td>15988</td><td>2017-01-06T16:26:07</td><td>2017-01-07T11:37:07</td><td>69060</td><td>Michigan Ave &amp; Oak St</td><td>Western Ave &amp; Winnebago Ave</td><td>Subscriber</td><td>Male</td><td>1974.0</td></tr><tr><th>12</th><td>145400</td><td>2017-02-08T18:00:56</td><td>2017-02-09T12:15:34</td><td>65678</td><td>Michigan Ave &amp; Oak St</td><td>Wabash Ave &amp; Roosevelt Rd</td><td>Subscriber</td><td>Male</td><td>1963.0</td></tr><tr><th>13</th><td>1503346</td><td>2017-06-27T19:10:42</td><td>2017-06-28T13:17:50</td><td>65228</td><td>Michigan Ave &amp; Oak St</td><td>Washtenaw Ave &amp; Lawrence Ave</td><td>Subscriber</td><td>Male</td><td>1960.0</td></tr><tr><th>14</th><td>265225</td><td>2017-02-26T22:24:08</td><td>2017-02-27T16:01:32</td><td>63444</td><td>Michigan Ave &amp; Oak St</td><td>Ashland Ave &amp; 21st St</td><td>Subscriber</td><td>Male</td><td>1994.0</td></tr><tr><th>15</th><td>275977</td><td>2017-02-28T13:42:20</td><td>2017-03-01T06:51:52</td><td>61772</td><td>Michigan Ave &amp; Oak St</td><td>Ogden Ave &amp; Race Ave</td><td>Subscriber</td><td>Male</td><td>1959.0</td></tr><tr><th>16</th><td>106617</td><td>2017-01-30T20:42:17</td><td>2017-01-31T13:49:55</td><td>61658</td><td>Michigan Ave &amp; Oak St</td><td>Desplaines St &amp; Kinzie St</td><td>Subscriber</td><td>Male</td><td>1970.0</td></tr><tr><th>17</th><td>1338793</td><td>2017-06-18T14:32:20</td><td>2017-06-19T07:34:16</td><td>61316</td><td>Michigan Ave &amp; Oak St</td><td>Halsted St &amp; Blackhawk St (*)</td><td>Subscriber</td><td>Male</td><td>1970.0</td></tr><tr><th>18</th><td>1123684</td><td>2017-06-05T13:23:01</td><td>2017-06-06T06:20:49</td><td>61068</td><td>Michigan Ave &amp; Oak St</td><td>Rockwell St &amp; Eastwood Ave</td><td>Subscriber</td><td>Male</td><td>1960.0</td></tr><tr><th>19</th><td>126901</td><td>2017-02-04T15:15:06</td><td>2017-02-05T08:12:44</td><td>61058</td><td>Michigan Ave &amp; Oak St</td><td>Canal St &amp; Madison St</td><td>Subscriber</td><td>Male</td><td>1955.0</td></tr><tr><th>20</th><td>635529</td><td>2017-04-23T14:22:45</td><td>2017-04-24T07:14:17</td><td>60692</td><td>Michigan Ave &amp; Oak St</td><td>Southport Ave &amp; Wrightwood Ave</td><td>Subscriber</td><td>Female</td><td>1990.0</td></tr><tr><th>21</th><td>1184089</td><td>2017-06-08T23:08:36</td><td>2017-06-09T15:32:56</td><td>59060</td><td>Michigan Ave &amp; Oak St</td><td>Wabash Ave &amp; Adams St</td><td>Subscriber</td><td>Male</td><td>1969.0</td></tr><tr><th>22</th><td>13924</td><td>2017-01-05T18:14:22</td><td>2017-01-06T10:32:38</td><td>58696</td><td>Michigan Ave &amp; Oak St</td><td>Greenview Ave &amp; Fullerton Ave</td><td>Subscriber</td><td>Male</td><td>1984.0</td></tr><tr><th>23</th><td>272288</td><td>2017-02-27T21:31:19</td><td>2017-02-28T13:21:49</td><td>57030</td><td>Michigan Ave &amp; Oak St</td><td>Clark St &amp; Winnemac Ave</td><td>Subscriber</td><td>Male</td><td>1972.0</td></tr><tr><th>24</th><td>1359065</td><td>2017-06-19T17:43:37</td><td>2017-06-20T09:19:36</td><td>56159</td><td>Michigan Ave &amp; Oak St</td><td>Lake Shore Dr &amp; North Blvd</td><td>Subscriber</td><td>Female</td><td>1991.0</td></tr><tr><th>25</th><td>889672</td><td>2017-05-18T17:31:29</td><td>2017-05-19T08:27:27</td><td>53758</td><td>Michigan Ave &amp; Oak St</td><td>Franklin St &amp; Jackson Blvd</td><td>Subscriber</td><td>Male</td><td>1984.0</td></tr><tr><th>26</th><td>1238691</td><td>2017-06-11T22:33:32</td><td>2017-06-12T13:12:07</td><td>52715</td><td>Michigan Ave &amp; Oak St</td><td>Sheffield Ave &amp; Waveland Ave</td><td>Subscriber</td><td>Male</td><td>1989.0</td></tr><tr><th>27</th><td>56462</td><td>2017-01-19T16:50:40</td><td>2017-01-20T07:01:06</td><td>51026</td><td>Michigan Ave &amp; Oak St</td><td>Aberdeen St &amp; Monroe St</td><td>Subscriber</td><td>Male</td><td>1968.0</td></tr><tr><th>28</th><td>705971</td><td>2017-05-01T17:50:19</td><td>2017-05-02T07:58:51</td><td>50912</td><td>Michigan Ave &amp; Oak St</td><td>Clark St &amp; Bryn Mawr Ave</td><td>Subscriber</td><td>Male</td><td>1981.0</td></tr><tr><th>29</th><td>766289</td><td>2017-05-08T20:34:17</td><td>2017-05-09T09:57:20</td><td>48183</td><td>Michigan Ave &amp; Oak St</td><td>Paulina Ave &amp; North Ave</td><td>Subscriber</td><td>Female</td><td>1989.0</td></tr><tr><th>30</th><td>806881</td><td>2017-05-12T20:22:32</td><td>2017-05-13T09:41:16</td><td>47924</td><td>Michigan Ave &amp; Oak St</td><td>Sheridan Rd &amp; Lawrence Ave</td><td>Subscriber</td><td>Female</td><td>1986.0</td></tr><tr><th>&vellip;</th><td>&vellip;</td><td>&vellip;</td><td>&vellip;</td><td>&vellip;</td><td>&vellip;</td><td>&vellip;</td><td>&vellip;</td><td>&vellip;</td><td>&vellip;</td></tr></tbody></table>"
      ],
      "text/plain": [
       "238948×9 DataFrame. Omitted printing of 5 columns\n",
       "│ Row    │ x       │ Start_Time          │ End_Time            │ Trip_Duration │\n",
       "│        │ \u001b[90mInt64⍰\u001b[39m  │ \u001b[90mDateTime\u001b[39m            │ \u001b[90mDateTime\u001b[39m            │ \u001b[90mInt64⍰\u001b[39m        │\n",
       "├────────┼─────────┼─────────────────────┼─────────────────────┼───────────────┤\n",
       "│ 1      │ 217922  │ 2017-02-19T16:02:00 │ 2017-02-20T15:51:02 │ 85742         │\n",
       "│ 2      │ 512635  │ 2017-04-11T18:45:19 │ 2017-04-12T18:31:31 │ 85572         │\n",
       "│ 3      │ 10473   │ 2017-01-04T17:06:17 │ 2017-01-05T15:32:34 │ 80777         │\n",
       "│ 4      │ 49262   │ 2017-01-18T09:14:54 │ 2017-01-19T07:25:07 │ 79813         │\n",
       "│ 5      │ 264867  │ 2017-02-26T18:40:42 │ 2017-02-27T16:18:47 │ 77885         │\n",
       "│ 6      │ 22147   │ 2017-01-09T17:00:34 │ 2017-01-10T13:39:56 │ 74362         │\n",
       "│ 7      │ 135434  │ 2017-02-06T17:57:14 │ 2017-02-07T14:22:50 │ 73536         │\n",
       "│ 8      │ 375392  │ 2017-03-21T16:27:03 │ 2017-03-22T12:37:03 │ 72600         │\n",
       "│ 9      │ 1362988 │ 2017-06-19T21:48:45 │ 2017-06-20T17:32:27 │ 71022         │\n",
       "│ 10     │ 133136  │ 2017-02-06T13:34:54 │ 2017-02-07T08:55:57 │ 69663         │\n",
       "⋮\n",
       "│ 238938 │ 109731  │ 2017-01-31T16:28:02 │ 2017-01-31T16:29:02 │ 60            │\n",
       "│ 238939 │ 1338373 │ 2017-06-18T14:16:48 │ 2017-06-18T14:17:48 │ 60            │\n",
       "│ 238940 │ 457132  │ 2017-04-04T22:21:33 │ 2017-04-04T22:22:33 │ 60            │\n",
       "│ 238941 │ 1096056 │ 2017-06-03T18:26:56 │ 2017-06-03T18:27:56 │ 60            │\n",
       "│ 238942 │ 419518  │ 2017-03-29T09:46:27 │ 2017-03-29T09:47:27 │ 60            │\n",
       "│ 238943 │ 681705  │ 2017-04-27T08:35:22 │ 2017-04-27T08:36:22 │ 60            │\n",
       "│ 238944 │ 704384  │ 2017-05-01T15:23:35 │ 2017-05-01T15:24:35 │ 60            │\n",
       "│ 238945 │ 914807  │ 2017-05-21T20:30:29 │ 2017-05-21T20:31:29 │ 60            │\n",
       "│ 238946 │ 1459207 │ 2017-06-25T13:05:00 │ 2017-06-25T13:06:00 │ 60            │\n",
       "│ 238947 │ 1456787 │ 2017-06-25T11:21:04 │ 2017-06-25T11:22:04 │ 60            │\n",
       "│ 238948 │ 1273518 │ 2017-06-14T07:33:23 │ 2017-06-14T07:34:23 │ 60            │"
      ]
     },
     "execution_count": 165,
     "metadata": {},
     "output_type": "execute_result"
    }
   ],
   "source": [
    "sort!(df1, (:Trip_Duration, :Start_Station, :Birth_Year), rev = (true, false, false))"
   ]
  },
  {
   "cell_type": "code",
   "execution_count": 169,
   "metadata": {},
   "outputs": [
    {
     "data": {
      "text/html": [
       "<table class=\"data-frame\"><thead><tr><th></th><th>variable</th><th>value</th><th>x</th><th>Start_Time</th><th>End_Time</th><th>Trip_Duration</th><th>User_Type</th><th>Gender</th><th>Birth_Year</th></tr><tr><th></th><th>Symbol</th><th>String⍰</th><th>Int64⍰</th><th>DateTime</th><th>DateTime</th><th>Int64⍰</th><th>String⍰</th><th>String⍰</th><th>Float64⍰</th></tr></thead><tbody><tr><th>1</th><td>Start_Station</td><td>Michigan Ave &amp; Oak St</td><td>217922</td><td>2017-02-19T16:02:00</td><td>2017-02-20T15:51:02</td><td>85742</td><td>Subscriber</td><td>Female</td><td>1972.0</td></tr><tr><th>2</th><td>Start_Station</td><td>Michigan Ave &amp; Oak St</td><td>512635</td><td>2017-04-11T18:45:19</td><td>2017-04-12T18:31:31</td><td>85572</td><td>Subscriber</td><td>Male</td><td>1984.0</td></tr><tr><th>3</th><td>Start_Station</td><td>Michigan Ave &amp; Oak St</td><td>10473</td><td>2017-01-04T17:06:17</td><td>2017-01-05T15:32:34</td><td>80777</td><td>Subscriber</td><td>Male</td><td>1976.0</td></tr><tr><th>4</th><td>Start_Station</td><td>Michigan Ave &amp; Oak St</td><td>49262</td><td>2017-01-18T09:14:54</td><td>2017-01-19T07:25:07</td><td>79813</td><td>Subscriber</td><td>Female</td><td>1971.0</td></tr><tr><th>5</th><td>Start_Station</td><td>Michigan Ave &amp; Oak St</td><td>264867</td><td>2017-02-26T18:40:42</td><td>2017-02-27T16:18:47</td><td>77885</td><td>Subscriber</td><td>Male</td><td>1992.0</td></tr><tr><th>6</th><td>Start_Station</td><td>Michigan Ave &amp; Oak St</td><td>22147</td><td>2017-01-09T17:00:34</td><td>2017-01-10T13:39:56</td><td>74362</td><td>Subscriber</td><td>Male</td><td>1970.0</td></tr><tr><th>7</th><td>Start_Station</td><td>Michigan Ave &amp; Oak St</td><td>135434</td><td>2017-02-06T17:57:14</td><td>2017-02-07T14:22:50</td><td>73536</td><td>Subscriber</td><td>Female</td><td>1983.0</td></tr><tr><th>8</th><td>Start_Station</td><td>Michigan Ave &amp; Oak St</td><td>375392</td><td>2017-03-21T16:27:03</td><td>2017-03-22T12:37:03</td><td>72600</td><td>Subscriber</td><td>Male</td><td>1963.0</td></tr><tr><th>9</th><td>Start_Station</td><td>Michigan Ave &amp; Oak St</td><td>1362988</td><td>2017-06-19T21:48:45</td><td>2017-06-20T17:32:27</td><td>71022</td><td>Subscriber</td><td>Male</td><td>1969.0</td></tr><tr><th>10</th><td>Start_Station</td><td>Michigan Ave &amp; Oak St</td><td>133136</td><td>2017-02-06T13:34:54</td><td>2017-02-07T08:55:57</td><td>69663</td><td>Subscriber</td><td>Female</td><td>1991.0</td></tr><tr><th>11</th><td>Start_Station</td><td>Michigan Ave &amp; Oak St</td><td>15988</td><td>2017-01-06T16:26:07</td><td>2017-01-07T11:37:07</td><td>69060</td><td>Subscriber</td><td>Male</td><td>1974.0</td></tr><tr><th>12</th><td>Start_Station</td><td>Michigan Ave &amp; Oak St</td><td>145400</td><td>2017-02-08T18:00:56</td><td>2017-02-09T12:15:34</td><td>65678</td><td>Subscriber</td><td>Male</td><td>1963.0</td></tr><tr><th>13</th><td>Start_Station</td><td>Michigan Ave &amp; Oak St</td><td>1503346</td><td>2017-06-27T19:10:42</td><td>2017-06-28T13:17:50</td><td>65228</td><td>Subscriber</td><td>Male</td><td>1960.0</td></tr><tr><th>14</th><td>Start_Station</td><td>Michigan Ave &amp; Oak St</td><td>265225</td><td>2017-02-26T22:24:08</td><td>2017-02-27T16:01:32</td><td>63444</td><td>Subscriber</td><td>Male</td><td>1994.0</td></tr><tr><th>15</th><td>Start_Station</td><td>Michigan Ave &amp; Oak St</td><td>275977</td><td>2017-02-28T13:42:20</td><td>2017-03-01T06:51:52</td><td>61772</td><td>Subscriber</td><td>Male</td><td>1959.0</td></tr><tr><th>16</th><td>Start_Station</td><td>Michigan Ave &amp; Oak St</td><td>106617</td><td>2017-01-30T20:42:17</td><td>2017-01-31T13:49:55</td><td>61658</td><td>Subscriber</td><td>Male</td><td>1970.0</td></tr><tr><th>17</th><td>Start_Station</td><td>Michigan Ave &amp; Oak St</td><td>1338793</td><td>2017-06-18T14:32:20</td><td>2017-06-19T07:34:16</td><td>61316</td><td>Subscriber</td><td>Male</td><td>1970.0</td></tr><tr><th>18</th><td>Start_Station</td><td>Michigan Ave &amp; Oak St</td><td>1123684</td><td>2017-06-05T13:23:01</td><td>2017-06-06T06:20:49</td><td>61068</td><td>Subscriber</td><td>Male</td><td>1960.0</td></tr><tr><th>19</th><td>Start_Station</td><td>Michigan Ave &amp; Oak St</td><td>126901</td><td>2017-02-04T15:15:06</td><td>2017-02-05T08:12:44</td><td>61058</td><td>Subscriber</td><td>Male</td><td>1955.0</td></tr><tr><th>20</th><td>Start_Station</td><td>Michigan Ave &amp; Oak St</td><td>635529</td><td>2017-04-23T14:22:45</td><td>2017-04-24T07:14:17</td><td>60692</td><td>Subscriber</td><td>Female</td><td>1990.0</td></tr><tr><th>21</th><td>Start_Station</td><td>Michigan Ave &amp; Oak St</td><td>1184089</td><td>2017-06-08T23:08:36</td><td>2017-06-09T15:32:56</td><td>59060</td><td>Subscriber</td><td>Male</td><td>1969.0</td></tr><tr><th>22</th><td>Start_Station</td><td>Michigan Ave &amp; Oak St</td><td>13924</td><td>2017-01-05T18:14:22</td><td>2017-01-06T10:32:38</td><td>58696</td><td>Subscriber</td><td>Male</td><td>1984.0</td></tr><tr><th>23</th><td>Start_Station</td><td>Michigan Ave &amp; Oak St</td><td>272288</td><td>2017-02-27T21:31:19</td><td>2017-02-28T13:21:49</td><td>57030</td><td>Subscriber</td><td>Male</td><td>1972.0</td></tr><tr><th>24</th><td>Start_Station</td><td>Michigan Ave &amp; Oak St</td><td>1359065</td><td>2017-06-19T17:43:37</td><td>2017-06-20T09:19:36</td><td>56159</td><td>Subscriber</td><td>Female</td><td>1991.0</td></tr><tr><th>25</th><td>Start_Station</td><td>Michigan Ave &amp; Oak St</td><td>889672</td><td>2017-05-18T17:31:29</td><td>2017-05-19T08:27:27</td><td>53758</td><td>Subscriber</td><td>Male</td><td>1984.0</td></tr><tr><th>26</th><td>Start_Station</td><td>Michigan Ave &amp; Oak St</td><td>1238691</td><td>2017-06-11T22:33:32</td><td>2017-06-12T13:12:07</td><td>52715</td><td>Subscriber</td><td>Male</td><td>1989.0</td></tr><tr><th>27</th><td>Start_Station</td><td>Michigan Ave &amp; Oak St</td><td>56462</td><td>2017-01-19T16:50:40</td><td>2017-01-20T07:01:06</td><td>51026</td><td>Subscriber</td><td>Male</td><td>1968.0</td></tr><tr><th>28</th><td>Start_Station</td><td>Michigan Ave &amp; Oak St</td><td>705971</td><td>2017-05-01T17:50:19</td><td>2017-05-02T07:58:51</td><td>50912</td><td>Subscriber</td><td>Male</td><td>1981.0</td></tr><tr><th>29</th><td>Start_Station</td><td>Michigan Ave &amp; Oak St</td><td>766289</td><td>2017-05-08T20:34:17</td><td>2017-05-09T09:57:20</td><td>48183</td><td>Subscriber</td><td>Female</td><td>1989.0</td></tr><tr><th>30</th><td>Start_Station</td><td>Michigan Ave &amp; Oak St</td><td>806881</td><td>2017-05-12T20:22:32</td><td>2017-05-13T09:41:16</td><td>47924</td><td>Subscriber</td><td>Female</td><td>1986.0</td></tr><tr><th>&vellip;</th><td>&vellip;</td><td>&vellip;</td><td>&vellip;</td><td>&vellip;</td><td>&vellip;</td><td>&vellip;</td><td>&vellip;</td><td>&vellip;</td><td>&vellip;</td></tr></tbody></table>"
      ],
      "text/plain": [
       "477896×9 DataFrame. Omitted printing of 6 columns\n",
       "│ Row    │ variable      │ value                        │ x       │\n",
       "│        │ \u001b[90mSymbol\u001b[39m        │ \u001b[90mUnion{Missing, String}\u001b[39m       │ \u001b[90mInt64⍰\u001b[39m  │\n",
       "├────────┼───────────────┼──────────────────────────────┼─────────┤\n",
       "│ 1      │ Start_Station │ Michigan Ave & Oak St        │ 217922  │\n",
       "│ 2      │ Start_Station │ Michigan Ave & Oak St        │ 512635  │\n",
       "│ 3      │ Start_Station │ Michigan Ave & Oak St        │ 10473   │\n",
       "│ 4      │ Start_Station │ Michigan Ave & Oak St        │ 49262   │\n",
       "│ 5      │ Start_Station │ Michigan Ave & Oak St        │ 264867  │\n",
       "│ 6      │ Start_Station │ Michigan Ave & Oak St        │ 22147   │\n",
       "│ 7      │ Start_Station │ Michigan Ave & Oak St        │ 135434  │\n",
       "│ 8      │ Start_Station │ Michigan Ave & Oak St        │ 375392  │\n",
       "│ 9      │ Start_Station │ Michigan Ave & Oak St        │ 1362988 │\n",
       "│ 10     │ Start_Station │ Michigan Ave & Oak St        │ 133136  │\n",
       "⋮\n",
       "│ 477886 │ End_Station   │ Ada St & Washington Blvd     │ 109731  │\n",
       "│ 477887 │ End_Station   │ Loomis St & Lexington St     │ 1338373 │\n",
       "│ 477888 │ End_Station   │ Humboldt Blvd & Armitage Ave │ 457132  │\n",
       "│ 477889 │ End_Station   │ MLK Jr Dr & 29th St          │ 1096056 │\n",
       "│ 477890 │ End_Station   │ MLK Jr Dr & 29th St          │ 419518  │\n",
       "│ 477891 │ End_Station   │ Lake Park Ave & 56th St      │ 681705  │\n",
       "│ 477892 │ End_Station   │ State St & 33rd St           │ 704384  │\n",
       "│ 477893 │ End_Station   │ Adler Planetarium            │ 914807  │\n",
       "│ 477894 │ End_Station   │ Campbell Ave & North Ave     │ 1459207 │\n",
       "│ 477895 │ End_Station   │ Streeter Dr & Grand Ave      │ 1456787 │\n",
       "│ 477896 │ End_Station   │ LaSalle St & Washington St   │ 1273518 │"
      ]
     },
     "execution_count": 169,
     "metadata": {},
     "output_type": "execute_result"
    }
   ],
   "source": [
    "d = stack(df1, 5:6)"
   ]
  },
  {
   "cell_type": "code",
   "execution_count": 170,
   "metadata": {},
   "outputs": [
    {
     "data": {
      "text/html": [
       "<table class=\"data-frame\"><thead><tr><th></th><th>variable</th><th>value</th><th>x</th><th>Start_Time</th><th>End_Time</th><th>Trip_Duration</th><th>User_Type</th><th>Gender</th><th>Birth_Year</th></tr><tr><th></th><th>Symbol</th><th>String⍰</th><th>Int64⍰</th><th>DateTime</th><th>DateTime</th><th>Int64⍰</th><th>String⍰</th><th>String⍰</th><th>Float64⍰</th></tr></thead><tbody><tr><th>1</th><td>Start_Station</td><td>Michigan Ave &amp; Oak St</td><td>217922</td><td>2017-02-19T16:02:00</td><td>2017-02-20T15:51:02</td><td>85742</td><td>Subscriber</td><td>Female</td><td>1972.0</td></tr><tr><th>2</th><td>Start_Station</td><td>Michigan Ave &amp; Oak St</td><td>512635</td><td>2017-04-11T18:45:19</td><td>2017-04-12T18:31:31</td><td>85572</td><td>Subscriber</td><td>Male</td><td>1984.0</td></tr><tr><th>3</th><td>Start_Station</td><td>Michigan Ave &amp; Oak St</td><td>10473</td><td>2017-01-04T17:06:17</td><td>2017-01-05T15:32:34</td><td>80777</td><td>Subscriber</td><td>Male</td><td>1976.0</td></tr><tr><th>4</th><td>Start_Station</td><td>Michigan Ave &amp; Oak St</td><td>49262</td><td>2017-01-18T09:14:54</td><td>2017-01-19T07:25:07</td><td>79813</td><td>Subscriber</td><td>Female</td><td>1971.0</td></tr><tr><th>5</th><td>Start_Station</td><td>Michigan Ave &amp; Oak St</td><td>264867</td><td>2017-02-26T18:40:42</td><td>2017-02-27T16:18:47</td><td>77885</td><td>Subscriber</td><td>Male</td><td>1992.0</td></tr><tr><th>6</th><td>Start_Station</td><td>Michigan Ave &amp; Oak St</td><td>22147</td><td>2017-01-09T17:00:34</td><td>2017-01-10T13:39:56</td><td>74362</td><td>Subscriber</td><td>Male</td><td>1970.0</td></tr></tbody></table>"
      ],
      "text/plain": [
       "6×9 DataFrame. Omitted printing of 5 columns\n",
       "│ Row │ variable      │ value                 │ x      │ Start_Time          │\n",
       "│     │ \u001b[90mSymbol\u001b[39m        │ \u001b[90mString⍰\u001b[39m               │ \u001b[90mInt64⍰\u001b[39m │ \u001b[90mDateTime\u001b[39m            │\n",
       "├─────┼───────────────┼───────────────────────┼────────┼─────────────────────┤\n",
       "│ 1   │ Start_Station │ Michigan Ave & Oak St │ 217922 │ 2017-02-19T16:02:00 │\n",
       "│ 2   │ Start_Station │ Michigan Ave & Oak St │ 512635 │ 2017-04-11T18:45:19 │\n",
       "│ 3   │ Start_Station │ Michigan Ave & Oak St │ 10473  │ 2017-01-04T17:06:17 │\n",
       "│ 4   │ Start_Station │ Michigan Ave & Oak St │ 49262  │ 2017-01-18T09:14:54 │\n",
       "│ 5   │ Start_Station │ Michigan Ave & Oak St │ 264867 │ 2017-02-26T18:40:42 │\n",
       "│ 6   │ Start_Station │ Michigan Ave & Oak St │ 22147  │ 2017-01-09T17:00:34 │"
      ]
     },
     "execution_count": 170,
     "metadata": {},
     "output_type": "execute_result"
    }
   ],
   "source": [
    "head(d)"
   ]
  },
  {
   "cell_type": "code",
   "execution_count": 171,
   "metadata": {},
   "outputs": [
    {
     "data": {
      "text/html": [
       "<table class=\"data-frame\"><thead><tr><th></th><th>variable</th><th>value</th><th>x</th><th>Start_Time</th><th>End_Time</th><th>Trip_Duration</th><th>User_Type</th><th>Gender</th><th>Birth_Year</th></tr><tr><th></th><th>Symbol</th><th>String⍰</th><th>Int64⍰</th><th>DateTime</th><th>DateTime</th><th>Int64⍰</th><th>String⍰</th><th>String⍰</th><th>Float64⍰</th></tr></thead><tbody><tr><th>1</th><td>End_Station</td><td>Lake Park Ave &amp; 56th St</td><td>681705</td><td>2017-04-27T08:35:22</td><td>2017-04-27T08:36:22</td><td>60</td><td>Subscriber</td><td>Male</td><td>1991.0</td></tr><tr><th>2</th><td>End_Station</td><td>State St &amp; 33rd St</td><td>704384</td><td>2017-05-01T15:23:35</td><td>2017-05-01T15:24:35</td><td>60</td><td>Subscriber</td><td>Male</td><td>1991.0</td></tr><tr><th>3</th><td>End_Station</td><td>Adler Planetarium</td><td>914807</td><td>2017-05-21T20:30:29</td><td>2017-05-21T20:31:29</td><td>60</td><td>Subscriber</td><td>Male</td><td>1992.0</td></tr><tr><th>4</th><td>End_Station</td><td>Campbell Ave &amp; North Ave</td><td>1459207</td><td>2017-06-25T13:05:00</td><td>2017-06-25T13:06:00</td><td>60</td><td>Subscriber</td><td>Female</td><td>1992.0</td></tr><tr><th>5</th><td>End_Station</td><td>Streeter Dr &amp; Grand Ave</td><td>1456787</td><td>2017-06-25T11:21:04</td><td>2017-06-25T11:22:04</td><td>60</td><td>Subscriber</td><td>Female</td><td>1993.0</td></tr><tr><th>6</th><td>End_Station</td><td>LaSalle St &amp; Washington St</td><td>1273518</td><td>2017-06-14T07:33:23</td><td>2017-06-14T07:34:23</td><td>60</td><td>Subscriber</td><td>Female</td><td>1995.0</td></tr></tbody></table>"
      ],
      "text/plain": [
       "6×9 DataFrame. Omitted printing of 6 columns\n",
       "│ Row │ variable    │ value                      │ x       │\n",
       "│     │ \u001b[90mSymbol\u001b[39m      │ \u001b[90mUnion{Missing, String}\u001b[39m     │ \u001b[90mInt64⍰\u001b[39m  │\n",
       "├─────┼─────────────┼────────────────────────────┼─────────┤\n",
       "│ 1   │ End_Station │ Lake Park Ave & 56th St    │ 681705  │\n",
       "│ 2   │ End_Station │ State St & 33rd St         │ 704384  │\n",
       "│ 3   │ End_Station │ Adler Planetarium          │ 914807  │\n",
       "│ 4   │ End_Station │ Campbell Ave & North Ave   │ 1459207 │\n",
       "│ 5   │ End_Station │ Streeter Dr & Grand Ave    │ 1456787 │\n",
       "│ 6   │ End_Station │ LaSalle St & Washington St │ 1273518 │"
      ]
     },
     "execution_count": 171,
     "metadata": {},
     "output_type": "execute_result"
    }
   ],
   "source": [
    "tail(d)"
   ]
  },
  {
   "cell_type": "code",
   "execution_count": 172,
   "metadata": {},
   "outputs": [
    {
     "name": "stdout",
     "output_type": "stream",
     "text": [
      "\n",
      "Calculating The Most Frequent Times of Travel...\n",
      "\n",
      "The most popular month is:6\n",
      "The most popular day of week is:2\n",
      "  0.115023 seconds (255.82 k allocations: 16.741 MiB)\n",
      "\n",
      "Calculating The Most Popular Stations and Trip...\n",
      "\n",
      "The most popular start station is:Michigan Ave & Oak St\n",
      "The most popular end station is:Clinton St & Washington Blvd\n",
      "The most popular combination of start and end stations is:FromMichigan Ave & Oak SttoClinton St & Washington Blvd\n",
      "  0.512554 seconds (1.41 M allocations: 76.407 MiB, 6.89% gc time)\n",
      "\n",
      "Calculating Trip Duration...\n",
      "\n",
      "The total travel time (in minutes) is:2.7853005833333335e6\n",
      "The mean travel time (in minutes) is:11.656513481315322\n",
      "  0.011856 seconds (23.41 k allocations: 1.183 MiB)\n",
      "\n",
      "Calculating User Stats...\n",
      "\n",
      "user_types = Dict{Union{Missing, String},Int64}(\"Subscriber\"=>238856,\"Dependent\"=>1,\"Customer\"=>91)\n",
      "gender = Dict{Union{Missing, String},Int64}(\"Female\"=>57758,\"Male\"=>181190)\n",
      "The earliest year of birth is 1899.0 \n",
      "The most recent year of birth is 2016.0 \n",
      " The most common year of birth is 1989.0\n",
      "  0.605129 seconds (1.82 M allocations: 102.572 MiB, 9.29% gc time)\n"
     ]
    }
   ],
   "source": [
    "show_results(df1)"
   ]
  },
  {
   "cell_type": "code",
   "execution_count": null,
   "metadata": {},
   "outputs": [],
   "source": []
  }
 ],
 "metadata": {
  "kernelspec": {
   "display_name": "Julia 1.0.0",
   "language": "julia",
   "name": "julia-1.0"
  },
  "language_info": {
   "file_extension": ".jl",
   "mimetype": "application/julia",
   "name": "julia",
   "version": "1.0.0"
  }
 },
 "nbformat": 4,
 "nbformat_minor": 2
}
